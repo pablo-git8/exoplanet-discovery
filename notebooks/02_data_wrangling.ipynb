{
 "cells": [
  {
   "cell_type": "code",
   "execution_count": 175,
   "metadata": {},
   "outputs": [],
   "source": [
    "import numpy as np\n",
    "import pandas as pd\n",
    "import xmltodict\n",
    "import requests\n",
    "import json\n",
    "import csv\n",
    "import matplotlib.pyplot as plt\n",
    "import seaborn as sns\n",
    "\n",
    "#Helper function exploring features in the dataset\n",
    "from functions_iot import summary_feature as s_f"
   ]
  },
  {
   "cell_type": "markdown",
   "metadata": {},
   "source": [
    "### KEPLER MISSION (KOIs)"
   ]
  },
  {
   "cell_type": "code",
   "execution_count": 176,
   "metadata": {},
   "outputs": [],
   "source": [
    "#url = \"https://exoplanetarchive.ipac.caltech.edu/cgi-bin/nstedAPI/nph-nstedAPI?table=cumulative&format=json\"\n",
    "url = \"https://exoplanetarchive.ipac.caltech.edu/cgi-bin/nstedAPI/nph-nstedAPI?table=q1_q17_dr25_koi&format=json\"\n",
    "resp = requests.get(url)"
   ]
  },
  {
   "cell_type": "code",
   "execution_count": 177,
   "metadata": {},
   "outputs": [
    {
     "name": "stdout",
     "output_type": "stream",
     "text": [
      "https://exoplanetarchive.ipac.caltech.edu/cgi-bin/nstedAPI/nph-nstedAPI?table=q1_q17_dr25_koi&format=json\n",
      "[]\n",
      "200\n",
      "{'Access-Control-Allow-Origin': '*', 'Content-type': 'text/plain'}\n",
      "text/plain\n"
     ]
    }
   ],
   "source": [
    "#Exploring response attributes\n",
    "print(resp.url)\n",
    "print(resp.history)\n",
    "print(resp.status_code) # Check if 200 (All OK)\n",
    "print(resp.headers)\n",
    "print(resp.headers['content-type']) # Check if 'application/json'"
   ]
  },
  {
   "cell_type": "code",
   "execution_count": 178,
   "metadata": {},
   "outputs": [
    {
     "data": {
      "text/html": [
       "<div>\n",
       "<style scoped>\n",
       "    .dataframe tbody tr th:only-of-type {\n",
       "        vertical-align: middle;\n",
       "    }\n",
       "\n",
       "    .dataframe tbody tr th {\n",
       "        vertical-align: top;\n",
       "    }\n",
       "\n",
       "    .dataframe thead th {\n",
       "        text-align: right;\n",
       "    }\n",
       "</style>\n",
       "<table border=\"1\" class=\"dataframe\">\n",
       "  <thead>\n",
       "    <tr style=\"text-align: right;\">\n",
       "      <th></th>\n",
       "      <th>kepid</th>\n",
       "      <th>kepoi_name</th>\n",
       "      <th>kepler_name</th>\n",
       "      <th>koi_disposition</th>\n",
       "      <th>koi_pdisposition</th>\n",
       "      <th>koi_score</th>\n",
       "      <th>koi_fpflag_nt</th>\n",
       "      <th>koi_fpflag_ss</th>\n",
       "      <th>koi_fpflag_co</th>\n",
       "      <th>koi_fpflag_ec</th>\n",
       "      <th>...</th>\n",
       "      <th>koi_slogg</th>\n",
       "      <th>koi_slogg_err1</th>\n",
       "      <th>koi_slogg_err2</th>\n",
       "      <th>koi_srad</th>\n",
       "      <th>koi_srad_err1</th>\n",
       "      <th>koi_srad_err2</th>\n",
       "      <th>ra_str</th>\n",
       "      <th>dec_str</th>\n",
       "      <th>koi_kepmag</th>\n",
       "      <th>koi_kepmag_err</th>\n",
       "    </tr>\n",
       "  </thead>\n",
       "  <tbody>\n",
       "    <tr>\n",
       "      <th>0</th>\n",
       "      <td>10811496</td>\n",
       "      <td>K00753.01</td>\n",
       "      <td>None</td>\n",
       "      <td>FALSE POSITIVE</td>\n",
       "      <td>FALSE POSITIVE</td>\n",
       "      <td>0.0</td>\n",
       "      <td>0</td>\n",
       "      <td>1</td>\n",
       "      <td>0</td>\n",
       "      <td>0</td>\n",
       "      <td>...</td>\n",
       "      <td>4.544</td>\n",
       "      <td>0.044</td>\n",
       "      <td>-0.176</td>\n",
       "      <td>0.868</td>\n",
       "      <td>0.233</td>\n",
       "      <td>-0.078</td>\n",
       "      <td>19h48m01.16s</td>\n",
       "      <td>+48d08m02.9s</td>\n",
       "      <td>15.436</td>\n",
       "      <td>None</td>\n",
       "    </tr>\n",
       "    <tr>\n",
       "      <th>1</th>\n",
       "      <td>10848459</td>\n",
       "      <td>K00754.01</td>\n",
       "      <td>None</td>\n",
       "      <td>FALSE POSITIVE</td>\n",
       "      <td>FALSE POSITIVE</td>\n",
       "      <td>0.0</td>\n",
       "      <td>0</td>\n",
       "      <td>1</td>\n",
       "      <td>0</td>\n",
       "      <td>0</td>\n",
       "      <td>...</td>\n",
       "      <td>4.564</td>\n",
       "      <td>0.053</td>\n",
       "      <td>-0.168</td>\n",
       "      <td>0.791</td>\n",
       "      <td>0.201</td>\n",
       "      <td>-0.067</td>\n",
       "      <td>19h02m08.31s</td>\n",
       "      <td>+48d17m06.8s</td>\n",
       "      <td>15.597</td>\n",
       "      <td>None</td>\n",
       "    </tr>\n",
       "    <tr>\n",
       "      <th>2</th>\n",
       "      <td>10854555</td>\n",
       "      <td>K00755.01</td>\n",
       "      <td>Kepler-664 b</td>\n",
       "      <td>CONFIRMED</td>\n",
       "      <td>CANDIDATE</td>\n",
       "      <td>1.0</td>\n",
       "      <td>0</td>\n",
       "      <td>0</td>\n",
       "      <td>0</td>\n",
       "      <td>0</td>\n",
       "      <td>...</td>\n",
       "      <td>4.438</td>\n",
       "      <td>0.070</td>\n",
       "      <td>-0.210</td>\n",
       "      <td>1.046</td>\n",
       "      <td>0.334</td>\n",
       "      <td>-0.133</td>\n",
       "      <td>19h15m01.17s</td>\n",
       "      <td>+48d13m34.3s</td>\n",
       "      <td>15.509</td>\n",
       "      <td>None</td>\n",
       "    </tr>\n",
       "    <tr>\n",
       "      <th>3</th>\n",
       "      <td>10872983</td>\n",
       "      <td>K00756.01</td>\n",
       "      <td>Kepler-228 d</td>\n",
       "      <td>CONFIRMED</td>\n",
       "      <td>CANDIDATE</td>\n",
       "      <td>1.0</td>\n",
       "      <td>0</td>\n",
       "      <td>0</td>\n",
       "      <td>0</td>\n",
       "      <td>0</td>\n",
       "      <td>...</td>\n",
       "      <td>4.486</td>\n",
       "      <td>0.054</td>\n",
       "      <td>-0.229</td>\n",
       "      <td>0.972</td>\n",
       "      <td>0.315</td>\n",
       "      <td>-0.105</td>\n",
       "      <td>19h45m08.67s</td>\n",
       "      <td>+48d13m28.8s</td>\n",
       "      <td>15.714</td>\n",
       "      <td>None</td>\n",
       "    </tr>\n",
       "    <tr>\n",
       "      <th>4</th>\n",
       "      <td>10872983</td>\n",
       "      <td>K00756.02</td>\n",
       "      <td>Kepler-228 c</td>\n",
       "      <td>CONFIRMED</td>\n",
       "      <td>CANDIDATE</td>\n",
       "      <td>1.0</td>\n",
       "      <td>0</td>\n",
       "      <td>0</td>\n",
       "      <td>0</td>\n",
       "      <td>0</td>\n",
       "      <td>...</td>\n",
       "      <td>4.486</td>\n",
       "      <td>0.054</td>\n",
       "      <td>-0.229</td>\n",
       "      <td>0.972</td>\n",
       "      <td>0.315</td>\n",
       "      <td>-0.105</td>\n",
       "      <td>19h45m08.67s</td>\n",
       "      <td>+48d13m28.8s</td>\n",
       "      <td>15.714</td>\n",
       "      <td>None</td>\n",
       "    </tr>\n",
       "  </tbody>\n",
       "</table>\n",
       "<p>5 rows × 50 columns</p>\n",
       "</div>"
      ],
      "text/plain": [
       "      kepid kepoi_name   kepler_name koi_disposition koi_pdisposition  \\\n",
       "0  10811496  K00753.01          None  FALSE POSITIVE   FALSE POSITIVE   \n",
       "1  10848459  K00754.01          None  FALSE POSITIVE   FALSE POSITIVE   \n",
       "2  10854555  K00755.01  Kepler-664 b       CONFIRMED        CANDIDATE   \n",
       "3  10872983  K00756.01  Kepler-228 d       CONFIRMED        CANDIDATE   \n",
       "4  10872983  K00756.02  Kepler-228 c       CONFIRMED        CANDIDATE   \n",
       "\n",
       "   koi_score  koi_fpflag_nt  koi_fpflag_ss  koi_fpflag_co  koi_fpflag_ec  ...  \\\n",
       "0        0.0              0              1              0              0  ...   \n",
       "1        0.0              0              1              0              0  ...   \n",
       "2        1.0              0              0              0              0  ...   \n",
       "3        1.0              0              0              0              0  ...   \n",
       "4        1.0              0              0              0              0  ...   \n",
       "\n",
       "   koi_slogg  koi_slogg_err1  koi_slogg_err2  koi_srad  koi_srad_err1  \\\n",
       "0      4.544           0.044          -0.176     0.868          0.233   \n",
       "1      4.564           0.053          -0.168     0.791          0.201   \n",
       "2      4.438           0.070          -0.210     1.046          0.334   \n",
       "3      4.486           0.054          -0.229     0.972          0.315   \n",
       "4      4.486           0.054          -0.229     0.972          0.315   \n",
       "\n",
       "   koi_srad_err2        ra_str       dec_str  koi_kepmag  koi_kepmag_err  \n",
       "0         -0.078  19h48m01.16s  +48d08m02.9s      15.436            None  \n",
       "1         -0.067  19h02m08.31s  +48d17m06.8s      15.597            None  \n",
       "2         -0.133  19h15m01.17s  +48d13m34.3s      15.509            None  \n",
       "3         -0.105  19h45m08.67s  +48d13m28.8s      15.714            None  \n",
       "4         -0.105  19h45m08.67s  +48d13m28.8s      15.714            None  \n",
       "\n",
       "[5 rows x 50 columns]"
      ]
     },
     "execution_count": 178,
     "metadata": {},
     "output_type": "execute_result"
    }
   ],
   "source": [
    "json_data = json.loads(resp.content)\n",
    "df = pd.DataFrame(json_data) # Saving the json data requested from API to a raw data frame\n",
    "df.head()"
   ]
  },
  {
   "cell_type": "markdown",
   "metadata": {},
   "source": [
    "### Identification Columns\n",
    "Information\n",
    "\n",
    "|Feature|Description|Datatype|\n",
    "|:-:|:-:|:-:|\n",
    "|`kepid`|Target identification number, as listed in the Kepler input Catalog (KIC)|int64|\n",
    "|`kepoi_name`|Number used to identify and track a Kepler Object of Interest (KOI)|object|\n",
    "\n",
    "### Exoplanet Archive Information\n",
    "Information\n",
    "\n",
    "|Feature|Description|Datatype|\n",
    "|:-:|:-:|:-:|\n",
    "|`kepler_name`|Kepler name in the form \"Kepler-N\" for identifying the planet|object|\n",
    "|`koi_disposition`|The category of this KOI from the Exoplanet Archive|object|\n",
    "\n",
    "### Project Disposition Columns\n",
    "Information\n",
    "\n",
    "|Feature|Description|Datatype|\n",
    "|:-:|:-:|:-:|\n",
    "|`koi_pdisposition`|The pipeline flag that designates the most probable physical explanation of the KOI|object|\n",
    "|`koi_score`|A value between 0 and 1 that indicates the confidence in the KOI disposition|float64|\n",
    "|`koi_fpflag_nt`|A KOI whose light curve is not consistent with that of a transiting planet|int32|\n",
    "|`koi_fpflag_ss`|A KOI that is observed to have a significant secondary event, transit shape, or out-of-eclipse variability, which indicates that the transit-like event is most likely caused by an eclipsing binary|int32|\n",
    "|`koi_fpflag_co`|The source of the signal is from a nearby star, as inferred by measuring the centroid location of the image both in and out of transit|int32|\n",
    "|`koi_fpflag_ec`|The KOI shares the same period and epoch as another object and is judged to be the result of flux contamination in the aperture or electronic crosstalk|int32|\n",
    "\n",
    "### Transit Properties\n",
    "Information\n",
    "\n",
    "|Feature|Description|Datatype|\n",
    "|:-:|:-:|:-:|\n",
    "|`koi_period`|The interval between consecutive planetary transits|float64|\n",
    "|`koi_period_err1`|The interval between consecutive planetary transits (positive uncertanty)|float64|\n",
    "|`koi_period_err2`|The interval between consecutive planetary transits (negative uncertanty)|float64|\n",
    "|`koi_time0bk`|The time corresponding to the center of the first detected transit in Barycentric Julian Day (BJD) minus a constant offset of 2,454,833.0 days|float64|\n",
    "|`koi_time0bk_err1`|The time corresponding to the center of the first detected transit in Barycentric Julian Day (BJD) minus a constant offset of 2,454,833.0 days (positive uncertanty)|float64|\n",
    "|`koi_time0bk_err2`|The time corresponding to the center of the first detected transit in Barycentric Julian Day (BJD) minus a constant offset of 2,454,833.0 days (negative uncertanty)|float64|\n",
    "|`koi_impact`|The sky-projected distance between the center of the stellar disc and the center of the planet disc at conjunction, normalized by the stellar radius|float64|\n",
    "|`koi_impact_err1`|The sky-projected distance between the center of the stellar disc and the center of the planet disc at conjunction, normalized by the stellar radius (positive uncertanty)|float64|\n",
    "|`koi_impact_err2`|The sky-projected distance between the center of the stellar disc and the center of the planet disc at conjunction, normalized by the stellar radius (negative uncertanty)|float64|\n",
    "|`koi_duration`|The duration of the observed transits|float64|\n",
    "|`koi_duration_err1`|The duration of the observed transits (positive uncertanty)|float64|\n",
    "|`koi_duration_err2`|The duration of the observed transits (negative uncertanty)|float64|\n",
    "|`koi_depth`|The fraction of stellar flux lost at the minimum of the planetary transit|float64|\n",
    "|`koi_depth_err1`|The fraction of stellar flux lost at the minimum of the planetary transit (positive uncertanty)|float64|\n",
    "|`koi_depth_err2`|The fraction of stellar flux lost at the minimum of the planetary transit (negative uncertanty)|float64|\n",
    "|`koi_prad`|Product of the planet star radius and the stellar radius|float64|\n",
    "|`koi_prad_err1`|Product of the planet star radius and the stellar radius (positive uncertanty)|float64|\n",
    "|`koi_prad_err2`|Product of the planet star radius and the stellar radius (negative uncertanty)|float64|\n",
    "|`koi_teq`|Approximation for the temperature of the planet|float64|\n",
    "|`koi_teq_err1`|Approximation of the temperature of the planet (positive uncertanty)|object| \n",
    "|`koi_teq_err2`|Approximation of the temperature of the planet (negative uncertanty)|object|\n",
    "|`koi_insol`|Insulation flux: another way to give the equilibrium temperature|float64|\n",
    "|`koi_insol_err1`|Insulation flux: another way to give the equilibrium temperature (positive uncertanty)|float64|\n",
    "|`koi_insol_err2`|Insulation flux: another way to give the equilibrium temperature (negative uncertanty)|float64|\n",
    "\n",
    "### Threshold-Crossing Event (TCE Information)\n",
    "Information\n",
    "\n",
    "|Feature|Description|Datatype|\n",
    "|:-:|:-:|:-:|\n",
    "|`koi_model_snr`|Transit depth normalized by the mean uncertainty in the flux during the transits|float64|\n",
    "|`koi_tce_plnt_num`|TCE Planet Number federated to the KOI|int64|\n",
    "|`koi_tce_delivname`|TCE delivery name corresponding to the TCE data federated to the KOI|object|\n",
    "\n",
    "### Stellar Parameters\n",
    "Stellar effective temperature, surface gravity, metallicity, radius, mass, and age should comprise a consistent set. Associated error estimates are 1-σ uncertainties.\n",
    "\n",
    "|Feature|Description|Datatype|\n",
    "|:-:|:-:|:-:|\n",
    "|`koi_steff`|Photospheric temperature of the star|float64|\n",
    "|`koi_steff_err1`|Photospheric temperature of the star (positive uncertanty)|float64|\n",
    "|`koi_steff_err2`|Photospheric temperature of the star (negative uncertanty)|float64|\n",
    "|`koi_slogg`|Base-10 logarithm of the acceleration due to gravity at the surface of the star|float64|\n",
    "|`koi_slogg_err1`|Base-10 logarithm of the acceleration due to gravity at the surface of the star (positive uncertanty)|float64|\n",
    "|`koi_slogg_err2`|Base-10 logarithm of the acceleration due to gravity at the surface of the star (negative uncertanty)|float64|\n",
    "|`koi_srad`|Photospheric radius of the star|float64|\n",
    "|`koi_srad_err1`|Photospheric radius of the star (positive uncertanty)|float64|\n",
    "|`koi_srad_err2`|Photospheric radius of the star (negative uncertanty)|float64|\n",
    "\n",
    "### KIC Parameters\n",
    "Information\n",
    "\n",
    "|Feature|Description|Datatype|\n",
    "|:-:|:-:|:-:|\n",
    "|`ra_str`|KIC Right Ascension|object|\n",
    "|`dec_str`|KIC Declination|object|\n",
    "|`koi_kepmag`| Kepler telescope's band (magnitude)|object| \n",
    "|`koi_kepmag_err`| Kepler telescope's band error (magnitude)| object| \n",
    "\n",
    "* The description of each feature was taken from [NASA Exoplanet Archive Data Columns in Kepler Objects of Interest Table]()"
   ]
  },
  {
   "cell_type": "markdown",
   "metadata": {},
   "source": [
    "Exploring Data Frame"
   ]
  },
  {
   "cell_type": "code",
   "execution_count": 179,
   "metadata": {},
   "outputs": [
    {
     "data": {
      "text/plain": [
       "(8054, 50)"
      ]
     },
     "execution_count": 179,
     "metadata": {},
     "output_type": "execute_result"
    }
   ],
   "source": [
    "df.shape # Getting raw data frame shape"
   ]
  },
  {
   "cell_type": "code",
   "execution_count": 180,
   "metadata": {},
   "outputs": [
    {
     "name": "stdout",
     "output_type": "stream",
     "text": [
      "<class 'pandas.core.frame.DataFrame'>\n",
      "RangeIndex: 8054 entries, 0 to 8053\n",
      "Data columns (total 50 columns):\n",
      " #   Column             Non-Null Count  Dtype  \n",
      "---  ------             --------------  -----  \n",
      " 0   kepid              8054 non-null   int64  \n",
      " 1   kepoi_name         8054 non-null   object \n",
      " 2   kepler_name        2656 non-null   object \n",
      " 3   koi_disposition    8054 non-null   object \n",
      " 4   koi_pdisposition   8054 non-null   object \n",
      " 5   koi_score          8054 non-null   float64\n",
      " 6   koi_fpflag_nt      8054 non-null   int64  \n",
      " 7   koi_fpflag_ss      8054 non-null   int64  \n",
      " 8   koi_fpflag_co      8054 non-null   int64  \n",
      " 9   koi_fpflag_ec      8054 non-null   int64  \n",
      " 10  koi_period         8054 non-null   float64\n",
      " 11  koi_period_err1    7904 non-null   float64\n",
      " 12  koi_period_err2    7904 non-null   float64\n",
      " 13  koi_time0bk        8054 non-null   float64\n",
      " 14  koi_time0bk_err1   7904 non-null   float64\n",
      " 15  koi_time0bk_err2   7904 non-null   float64\n",
      " 16  koi_impact         7995 non-null   float64\n",
      " 17  koi_impact_err1    7904 non-null   float64\n",
      " 18  koi_impact_err2    7904 non-null   float64\n",
      " 19  koi_duration       8054 non-null   float64\n",
      " 20  koi_duration_err1  7904 non-null   float64\n",
      " 21  koi_duration_err2  7904 non-null   float64\n",
      " 22  koi_depth          7995 non-null   float64\n",
      " 23  koi_depth_err1     7904 non-null   float64\n",
      " 24  koi_depth_err2     7904 non-null   float64\n",
      " 25  koi_prad           7995 non-null   float64\n",
      " 26  koi_prad_err1      7995 non-null   float64\n",
      " 27  koi_prad_err2      7995 non-null   float64\n",
      " 28  koi_teq            7995 non-null   float64\n",
      " 29  koi_teq_err1       0 non-null      object \n",
      " 30  koi_teq_err2       0 non-null      object \n",
      " 31  koi_insol          7995 non-null   float64\n",
      " 32  koi_insol_err1     7995 non-null   float64\n",
      " 33  koi_insol_err2     7995 non-null   float64\n",
      " 34  koi_model_snr      7995 non-null   float64\n",
      " 35  koi_tce_plnt_num   8054 non-null   int64  \n",
      " 36  koi_tce_delivname  8054 non-null   object \n",
      " 37  koi_steff          7995 non-null   float64\n",
      " 38  koi_steff_err1     7907 non-null   float64\n",
      " 39  koi_steff_err2     7892 non-null   float64\n",
      " 40  koi_slogg          7995 non-null   float64\n",
      " 41  koi_slogg_err1     7907 non-null   float64\n",
      " 42  koi_slogg_err2     7907 non-null   float64\n",
      " 43  koi_srad           7995 non-null   float64\n",
      " 44  koi_srad_err1      7907 non-null   float64\n",
      " 45  koi_srad_err2      7907 non-null   float64\n",
      " 46  ra_str             8054 non-null   object \n",
      " 47  dec_str            8054 non-null   object \n",
      " 48  koi_kepmag         8053 non-null   float64\n",
      " 49  koi_kepmag_err     0 non-null      object \n",
      "dtypes: float64(34), int64(6), object(10)\n",
      "memory usage: 3.1+ MB\n"
     ]
    }
   ],
   "source": [
    "df.info() # Getting raw data frame information"
   ]
  },
  {
   "cell_type": "code",
   "execution_count": 181,
   "metadata": {},
   "outputs": [
    {
     "data": {
      "text/html": [
       "<div>\n",
       "<style scoped>\n",
       "    .dataframe tbody tr th:only-of-type {\n",
       "        vertical-align: middle;\n",
       "    }\n",
       "\n",
       "    .dataframe tbody tr th {\n",
       "        vertical-align: top;\n",
       "    }\n",
       "\n",
       "    .dataframe thead th {\n",
       "        text-align: right;\n",
       "    }\n",
       "</style>\n",
       "<table border=\"1\" class=\"dataframe\">\n",
       "  <thead>\n",
       "    <tr style=\"text-align: right;\">\n",
       "      <th></th>\n",
       "      <th>count</th>\n",
       "      <th>%</th>\n",
       "    </tr>\n",
       "  </thead>\n",
       "  <tbody>\n",
       "    <tr>\n",
       "      <th>koi_kepmag_err</th>\n",
       "      <td>8054</td>\n",
       "      <td>100.000000</td>\n",
       "    </tr>\n",
       "    <tr>\n",
       "      <th>koi_teq_err2</th>\n",
       "      <td>8054</td>\n",
       "      <td>100.000000</td>\n",
       "    </tr>\n",
       "    <tr>\n",
       "      <th>koi_teq_err1</th>\n",
       "      <td>8054</td>\n",
       "      <td>100.000000</td>\n",
       "    </tr>\n",
       "    <tr>\n",
       "      <th>kepler_name</th>\n",
       "      <td>5398</td>\n",
       "      <td>67.022597</td>\n",
       "    </tr>\n",
       "    <tr>\n",
       "      <th>koi_steff_err2</th>\n",
       "      <td>162</td>\n",
       "      <td>2.011423</td>\n",
       "    </tr>\n",
       "    <tr>\n",
       "      <th>koi_time0bk_err2</th>\n",
       "      <td>150</td>\n",
       "      <td>1.862429</td>\n",
       "    </tr>\n",
       "    <tr>\n",
       "      <th>koi_impact_err1</th>\n",
       "      <td>150</td>\n",
       "      <td>1.862429</td>\n",
       "    </tr>\n",
       "    <tr>\n",
       "      <th>koi_depth_err2</th>\n",
       "      <td>150</td>\n",
       "      <td>1.862429</td>\n",
       "    </tr>\n",
       "    <tr>\n",
       "      <th>koi_depth_err1</th>\n",
       "      <td>150</td>\n",
       "      <td>1.862429</td>\n",
       "    </tr>\n",
       "    <tr>\n",
       "      <th>koi_duration_err2</th>\n",
       "      <td>150</td>\n",
       "      <td>1.862429</td>\n",
       "    </tr>\n",
       "    <tr>\n",
       "      <th>koi_duration_err1</th>\n",
       "      <td>150</td>\n",
       "      <td>1.862429</td>\n",
       "    </tr>\n",
       "    <tr>\n",
       "      <th>koi_impact_err2</th>\n",
       "      <td>150</td>\n",
       "      <td>1.862429</td>\n",
       "    </tr>\n",
       "    <tr>\n",
       "      <th>koi_time0bk_err1</th>\n",
       "      <td>150</td>\n",
       "      <td>1.862429</td>\n",
       "    </tr>\n",
       "    <tr>\n",
       "      <th>koi_period_err2</th>\n",
       "      <td>150</td>\n",
       "      <td>1.862429</td>\n",
       "    </tr>\n",
       "    <tr>\n",
       "      <th>koi_period_err1</th>\n",
       "      <td>150</td>\n",
       "      <td>1.862429</td>\n",
       "    </tr>\n",
       "    <tr>\n",
       "      <th>koi_srad_err1</th>\n",
       "      <td>147</td>\n",
       "      <td>1.825180</td>\n",
       "    </tr>\n",
       "    <tr>\n",
       "      <th>koi_steff_err1</th>\n",
       "      <td>147</td>\n",
       "      <td>1.825180</td>\n",
       "    </tr>\n",
       "    <tr>\n",
       "      <th>koi_slogg_err1</th>\n",
       "      <td>147</td>\n",
       "      <td>1.825180</td>\n",
       "    </tr>\n",
       "    <tr>\n",
       "      <th>koi_slogg_err2</th>\n",
       "      <td>147</td>\n",
       "      <td>1.825180</td>\n",
       "    </tr>\n",
       "    <tr>\n",
       "      <th>koi_srad_err2</th>\n",
       "      <td>147</td>\n",
       "      <td>1.825180</td>\n",
       "    </tr>\n",
       "    <tr>\n",
       "      <th>koi_steff</th>\n",
       "      <td>59</td>\n",
       "      <td>0.732555</td>\n",
       "    </tr>\n",
       "    <tr>\n",
       "      <th>koi_teq</th>\n",
       "      <td>59</td>\n",
       "      <td>0.732555</td>\n",
       "    </tr>\n",
       "    <tr>\n",
       "      <th>koi_model_snr</th>\n",
       "      <td>59</td>\n",
       "      <td>0.732555</td>\n",
       "    </tr>\n",
       "    <tr>\n",
       "      <th>koi_insol_err2</th>\n",
       "      <td>59</td>\n",
       "      <td>0.732555</td>\n",
       "    </tr>\n",
       "    <tr>\n",
       "      <th>koi_slogg</th>\n",
       "      <td>59</td>\n",
       "      <td>0.732555</td>\n",
       "    </tr>\n",
       "    <tr>\n",
       "      <th>koi_insol_err1</th>\n",
       "      <td>59</td>\n",
       "      <td>0.732555</td>\n",
       "    </tr>\n",
       "    <tr>\n",
       "      <th>koi_insol</th>\n",
       "      <td>59</td>\n",
       "      <td>0.732555</td>\n",
       "    </tr>\n",
       "    <tr>\n",
       "      <th>koi_srad</th>\n",
       "      <td>59</td>\n",
       "      <td>0.732555</td>\n",
       "    </tr>\n",
       "    <tr>\n",
       "      <th>koi_prad</th>\n",
       "      <td>59</td>\n",
       "      <td>0.732555</td>\n",
       "    </tr>\n",
       "    <tr>\n",
       "      <th>koi_prad_err2</th>\n",
       "      <td>59</td>\n",
       "      <td>0.732555</td>\n",
       "    </tr>\n",
       "    <tr>\n",
       "      <th>koi_depth</th>\n",
       "      <td>59</td>\n",
       "      <td>0.732555</td>\n",
       "    </tr>\n",
       "    <tr>\n",
       "      <th>koi_impact</th>\n",
       "      <td>59</td>\n",
       "      <td>0.732555</td>\n",
       "    </tr>\n",
       "    <tr>\n",
       "      <th>koi_prad_err1</th>\n",
       "      <td>59</td>\n",
       "      <td>0.732555</td>\n",
       "    </tr>\n",
       "    <tr>\n",
       "      <th>koi_kepmag</th>\n",
       "      <td>1</td>\n",
       "      <td>0.012416</td>\n",
       "    </tr>\n",
       "    <tr>\n",
       "      <th>koi_fpflag_ss</th>\n",
       "      <td>0</td>\n",
       "      <td>0.000000</td>\n",
       "    </tr>\n",
       "    <tr>\n",
       "      <th>dec_str</th>\n",
       "      <td>0</td>\n",
       "      <td>0.000000</td>\n",
       "    </tr>\n",
       "    <tr>\n",
       "      <th>ra_str</th>\n",
       "      <td>0</td>\n",
       "      <td>0.000000</td>\n",
       "    </tr>\n",
       "    <tr>\n",
       "      <th>koi_disposition</th>\n",
       "      <td>0</td>\n",
       "      <td>0.000000</td>\n",
       "    </tr>\n",
       "    <tr>\n",
       "      <th>koi_pdisposition</th>\n",
       "      <td>0</td>\n",
       "      <td>0.000000</td>\n",
       "    </tr>\n",
       "    <tr>\n",
       "      <th>koi_score</th>\n",
       "      <td>0</td>\n",
       "      <td>0.000000</td>\n",
       "    </tr>\n",
       "    <tr>\n",
       "      <th>koi_fpflag_nt</th>\n",
       "      <td>0</td>\n",
       "      <td>0.000000</td>\n",
       "    </tr>\n",
       "    <tr>\n",
       "      <th>koi_fpflag_ec</th>\n",
       "      <td>0</td>\n",
       "      <td>0.000000</td>\n",
       "    </tr>\n",
       "    <tr>\n",
       "      <th>koi_fpflag_co</th>\n",
       "      <td>0</td>\n",
       "      <td>0.000000</td>\n",
       "    </tr>\n",
       "    <tr>\n",
       "      <th>koi_period</th>\n",
       "      <td>0</td>\n",
       "      <td>0.000000</td>\n",
       "    </tr>\n",
       "    <tr>\n",
       "      <th>koi_time0bk</th>\n",
       "      <td>0</td>\n",
       "      <td>0.000000</td>\n",
       "    </tr>\n",
       "    <tr>\n",
       "      <th>koi_tce_delivname</th>\n",
       "      <td>0</td>\n",
       "      <td>0.000000</td>\n",
       "    </tr>\n",
       "    <tr>\n",
       "      <th>koi_tce_plnt_num</th>\n",
       "      <td>0</td>\n",
       "      <td>0.000000</td>\n",
       "    </tr>\n",
       "    <tr>\n",
       "      <th>koi_duration</th>\n",
       "      <td>0</td>\n",
       "      <td>0.000000</td>\n",
       "    </tr>\n",
       "    <tr>\n",
       "      <th>kepoi_name</th>\n",
       "      <td>0</td>\n",
       "      <td>0.000000</td>\n",
       "    </tr>\n",
       "    <tr>\n",
       "      <th>kepid</th>\n",
       "      <td>0</td>\n",
       "      <td>0.000000</td>\n",
       "    </tr>\n",
       "  </tbody>\n",
       "</table>\n",
       "</div>"
      ],
      "text/plain": [
       "                   count           %\n",
       "koi_kepmag_err      8054  100.000000\n",
       "koi_teq_err2        8054  100.000000\n",
       "koi_teq_err1        8054  100.000000\n",
       "kepler_name         5398   67.022597\n",
       "koi_steff_err2       162    2.011423\n",
       "koi_time0bk_err2     150    1.862429\n",
       "koi_impact_err1      150    1.862429\n",
       "koi_depth_err2       150    1.862429\n",
       "koi_depth_err1       150    1.862429\n",
       "koi_duration_err2    150    1.862429\n",
       "koi_duration_err1    150    1.862429\n",
       "koi_impact_err2      150    1.862429\n",
       "koi_time0bk_err1     150    1.862429\n",
       "koi_period_err2      150    1.862429\n",
       "koi_period_err1      150    1.862429\n",
       "koi_srad_err1        147    1.825180\n",
       "koi_steff_err1       147    1.825180\n",
       "koi_slogg_err1       147    1.825180\n",
       "koi_slogg_err2       147    1.825180\n",
       "koi_srad_err2        147    1.825180\n",
       "koi_steff             59    0.732555\n",
       "koi_teq               59    0.732555\n",
       "koi_model_snr         59    0.732555\n",
       "koi_insol_err2        59    0.732555\n",
       "koi_slogg             59    0.732555\n",
       "koi_insol_err1        59    0.732555\n",
       "koi_insol             59    0.732555\n",
       "koi_srad              59    0.732555\n",
       "koi_prad              59    0.732555\n",
       "koi_prad_err2         59    0.732555\n",
       "koi_depth             59    0.732555\n",
       "koi_impact            59    0.732555\n",
       "koi_prad_err1         59    0.732555\n",
       "koi_kepmag             1    0.012416\n",
       "koi_fpflag_ss          0    0.000000\n",
       "dec_str                0    0.000000\n",
       "ra_str                 0    0.000000\n",
       "koi_disposition        0    0.000000\n",
       "koi_pdisposition       0    0.000000\n",
       "koi_score              0    0.000000\n",
       "koi_fpflag_nt          0    0.000000\n",
       "koi_fpflag_ec          0    0.000000\n",
       "koi_fpflag_co          0    0.000000\n",
       "koi_period             0    0.000000\n",
       "koi_time0bk            0    0.000000\n",
       "koi_tce_delivname      0    0.000000\n",
       "koi_tce_plnt_num       0    0.000000\n",
       "koi_duration           0    0.000000\n",
       "kepoi_name             0    0.000000\n",
       "kepid                  0    0.000000"
      ]
     },
     "execution_count": 181,
     "metadata": {},
     "output_type": "execute_result"
    }
   ],
   "source": [
    "#Creating a data frame for visualizing the missing values in raw data frame\n",
    "missing = pd.concat([df.isnull().sum(), 100 * df.isnull().mean()], axis=1)\n",
    "missing.columns=['count', '%']\n",
    "missing.sort_values(by='count', ascending=False)"
   ]
  },
  {
   "cell_type": "markdown",
   "metadata": {},
   "source": [
    "#### Dropping empty and not useful columns"
   ]
  },
  {
   "cell_type": "markdown",
   "metadata": {},
   "source": [
    "`koi_kepmag_err`, `koi_teq_err1` and `koi_teq_err2` are completely empty columns, so we can comfortably drop them."
   ]
  },
  {
   "cell_type": "markdown",
   "metadata": {},
   "source": [
    "Identification Columns (`kepid` and `kepoi_name`) are identification columns that are not really useful for a multi classification model. Some of them are unique ID's for each KOI. \n",
    "\n",
    "As a matter of fact, `kepid` was derived from a ground-based imaging survey of the Kepler field conducted prior to launch. The survey's purpose was to identify stars for the Kepler exoplanet survey by magnitude and color. The full catalog of 13 million sources can be searched at the [MAST archive](https://archive.stsci.edu/kepler/kic10/search.php). The Kepler ID is unique to a target and there is only one Kepler ID per target.\n",
    "\n",
    "Talking about uniqueness, let's explore which features have all unique values in it."
   ]
  },
  {
   "cell_type": "code",
   "execution_count": 182,
   "metadata": {},
   "outputs": [
    {
     "name": "stdout",
     "output_type": "stream",
     "text": [
      "kepid : False\n",
      "kepoi_name : True\n",
      "kepler_name : False\n",
      "koi_disposition : False\n",
      "koi_pdisposition : False\n",
      "koi_score : False\n",
      "koi_fpflag_nt : False\n",
      "koi_fpflag_ss : False\n",
      "koi_fpflag_co : False\n",
      "koi_fpflag_ec : False\n",
      "koi_period : True\n",
      "koi_period_err1 : False\n",
      "koi_period_err2 : False\n",
      "koi_time0bk : False\n",
      "koi_time0bk_err1 : False\n",
      "koi_time0bk_err2 : False\n",
      "koi_impact : False\n",
      "koi_impact_err1 : False\n",
      "koi_impact_err2 : False\n",
      "koi_duration : False\n",
      "koi_duration_err1 : False\n",
      "koi_duration_err2 : False\n",
      "koi_depth : False\n",
      "koi_depth_err1 : False\n",
      "koi_depth_err2 : False\n",
      "koi_prad : False\n",
      "koi_prad_err1 : False\n",
      "koi_prad_err2 : False\n",
      "koi_teq : False\n",
      "koi_teq_err1 : False\n",
      "koi_teq_err2 : False\n",
      "koi_insol : False\n",
      "koi_insol_err1 : False\n",
      "koi_insol_err2 : False\n",
      "koi_model_snr : False\n",
      "koi_tce_plnt_num : False\n",
      "koi_tce_delivname : False\n",
      "koi_steff : False\n",
      "koi_steff_err1 : False\n",
      "koi_steff_err2 : False\n",
      "koi_slogg : False\n",
      "koi_slogg_err1 : False\n",
      "koi_slogg_err2 : False\n",
      "koi_srad : False\n",
      "koi_srad_err1 : False\n",
      "koi_srad_err2 : False\n",
      "ra_str : False\n",
      "dec_str : False\n",
      "koi_kepmag : False\n",
      "koi_kepmag_err : False\n"
     ]
    }
   ],
   "source": [
    "# Checking which features have unique values\n",
    "for i in df.columns:\n",
    "    print(i,':', df[i].is_unique)"
   ]
  },
  {
   "cell_type": "markdown",
   "metadata": {},
   "source": [
    "We confirm that `kepoi_name` is unique, but we also interestingly see that `koi_period` is also unique. So, let's start exploring this feature firsta and see if we can find relevant information on it."
   ]
  },
  {
   "cell_type": "code",
   "execution_count": 183,
   "metadata": {},
   "outputs": [
    {
     "name": "stdout",
     "output_type": "stream",
     "text": [
      "There are 8054 non-zero values out of 8054 in 'koi_period'\n",
      "Number of unique values: 8054\n",
      "Unique Values: [19.89913995  1.73695245  2.52559178 ... 21.3851584  11.42755098\n",
      " 23.44970494]\n",
      "\n",
      "<class 'pandas.core.series.Series'>\n",
      "RangeIndex: 8054 entries, 0 to 8053\n",
      "Series name: koi_period\n",
      "Non-Null Count  Dtype  \n",
      "--------------  -----  \n",
      "8054 non-null   float64\n",
      "dtypes: float64(1)\n",
      "memory usage: 63.0 KB\n"
     ]
    },
    {
     "data": {
      "text/plain": [
       "'\\n0 missing values (not equal to positive and negative uncertanties)\\nneed to add uncertanties and handle it as a range\\nall records non null, we may disregard the ranges or fill the ones with zeros\\nall unique values\\nall float64\\n'"
      ]
     },
     "execution_count": 183,
     "metadata": {},
     "output_type": "execute_result"
    }
   ],
   "source": [
    "s_f(df, 'koi_period') #Summary feature 'koi_period'\n",
    "'''\n",
    "0 missing values (not equal to positive and negative uncertanties)\n",
    "need to add uncertanties and handle it as a range\n",
    "all records non null, we may disregard the ranges or fill the ones with zeros\n",
    "all unique values\n",
    "all float64\n",
    "'''"
   ]
  },
  {
   "cell_type": "code",
   "execution_count": 184,
   "metadata": {},
   "outputs": [],
   "source": [
    "# Easy drops\n",
    "df.drop(columns=['koi_kepmag_err', 'koi_teq_err1', 'koi_teq_err2', 'kepid', 'kepoi_name'], inplace=True)"
   ]
  },
  {
   "cell_type": "code",
   "execution_count": 185,
   "metadata": {},
   "outputs": [
    {
     "data": {
      "text/html": [
       "<div>\n",
       "<style scoped>\n",
       "    .dataframe tbody tr th:only-of-type {\n",
       "        vertical-align: middle;\n",
       "    }\n",
       "\n",
       "    .dataframe tbody tr th {\n",
       "        vertical-align: top;\n",
       "    }\n",
       "\n",
       "    .dataframe thead th {\n",
       "        text-align: right;\n",
       "    }\n",
       "</style>\n",
       "<table border=\"1\" class=\"dataframe\">\n",
       "  <thead>\n",
       "    <tr style=\"text-align: right;\">\n",
       "      <th></th>\n",
       "      <th>count</th>\n",
       "      <th>%</th>\n",
       "    </tr>\n",
       "  </thead>\n",
       "  <tbody>\n",
       "    <tr>\n",
       "      <th>kepler_name</th>\n",
       "      <td>5398</td>\n",
       "      <td>67.022597</td>\n",
       "    </tr>\n",
       "    <tr>\n",
       "      <th>koi_steff_err2</th>\n",
       "      <td>162</td>\n",
       "      <td>2.011423</td>\n",
       "    </tr>\n",
       "    <tr>\n",
       "      <th>koi_period_err2</th>\n",
       "      <td>150</td>\n",
       "      <td>1.862429</td>\n",
       "    </tr>\n",
       "    <tr>\n",
       "      <th>koi_depth_err1</th>\n",
       "      <td>150</td>\n",
       "      <td>1.862429</td>\n",
       "    </tr>\n",
       "    <tr>\n",
       "      <th>koi_duration_err2</th>\n",
       "      <td>150</td>\n",
       "      <td>1.862429</td>\n",
       "    </tr>\n",
       "    <tr>\n",
       "      <th>koi_duration_err1</th>\n",
       "      <td>150</td>\n",
       "      <td>1.862429</td>\n",
       "    </tr>\n",
       "    <tr>\n",
       "      <th>koi_impact_err2</th>\n",
       "      <td>150</td>\n",
       "      <td>1.862429</td>\n",
       "    </tr>\n",
       "    <tr>\n",
       "      <th>koi_impact_err1</th>\n",
       "      <td>150</td>\n",
       "      <td>1.862429</td>\n",
       "    </tr>\n",
       "    <tr>\n",
       "      <th>koi_time0bk_err2</th>\n",
       "      <td>150</td>\n",
       "      <td>1.862429</td>\n",
       "    </tr>\n",
       "    <tr>\n",
       "      <th>koi_time0bk_err1</th>\n",
       "      <td>150</td>\n",
       "      <td>1.862429</td>\n",
       "    </tr>\n",
       "    <tr>\n",
       "      <th>koi_depth_err2</th>\n",
       "      <td>150</td>\n",
       "      <td>1.862429</td>\n",
       "    </tr>\n",
       "    <tr>\n",
       "      <th>koi_period_err1</th>\n",
       "      <td>150</td>\n",
       "      <td>1.862429</td>\n",
       "    </tr>\n",
       "    <tr>\n",
       "      <th>koi_srad_err2</th>\n",
       "      <td>147</td>\n",
       "      <td>1.825180</td>\n",
       "    </tr>\n",
       "    <tr>\n",
       "      <th>koi_srad_err1</th>\n",
       "      <td>147</td>\n",
       "      <td>1.825180</td>\n",
       "    </tr>\n",
       "    <tr>\n",
       "      <th>koi_slogg_err2</th>\n",
       "      <td>147</td>\n",
       "      <td>1.825180</td>\n",
       "    </tr>\n",
       "    <tr>\n",
       "      <th>koi_slogg_err1</th>\n",
       "      <td>147</td>\n",
       "      <td>1.825180</td>\n",
       "    </tr>\n",
       "    <tr>\n",
       "      <th>koi_steff_err1</th>\n",
       "      <td>147</td>\n",
       "      <td>1.825180</td>\n",
       "    </tr>\n",
       "    <tr>\n",
       "      <th>koi_insol_err1</th>\n",
       "      <td>59</td>\n",
       "      <td>0.732555</td>\n",
       "    </tr>\n",
       "    <tr>\n",
       "      <th>koi_prad</th>\n",
       "      <td>59</td>\n",
       "      <td>0.732555</td>\n",
       "    </tr>\n",
       "    <tr>\n",
       "      <th>koi_insol</th>\n",
       "      <td>59</td>\n",
       "      <td>0.732555</td>\n",
       "    </tr>\n",
       "    <tr>\n",
       "      <th>koi_teq</th>\n",
       "      <td>59</td>\n",
       "      <td>0.732555</td>\n",
       "    </tr>\n",
       "    <tr>\n",
       "      <th>koi_prad_err2</th>\n",
       "      <td>59</td>\n",
       "      <td>0.732555</td>\n",
       "    </tr>\n",
       "    <tr>\n",
       "      <th>koi_prad_err1</th>\n",
       "      <td>59</td>\n",
       "      <td>0.732555</td>\n",
       "    </tr>\n",
       "    <tr>\n",
       "      <th>koi_depth</th>\n",
       "      <td>59</td>\n",
       "      <td>0.732555</td>\n",
       "    </tr>\n",
       "    <tr>\n",
       "      <th>koi_steff</th>\n",
       "      <td>59</td>\n",
       "      <td>0.732555</td>\n",
       "    </tr>\n",
       "    <tr>\n",
       "      <th>koi_model_snr</th>\n",
       "      <td>59</td>\n",
       "      <td>0.732555</td>\n",
       "    </tr>\n",
       "    <tr>\n",
       "      <th>koi_slogg</th>\n",
       "      <td>59</td>\n",
       "      <td>0.732555</td>\n",
       "    </tr>\n",
       "    <tr>\n",
       "      <th>koi_srad</th>\n",
       "      <td>59</td>\n",
       "      <td>0.732555</td>\n",
       "    </tr>\n",
       "    <tr>\n",
       "      <th>koi_impact</th>\n",
       "      <td>59</td>\n",
       "      <td>0.732555</td>\n",
       "    </tr>\n",
       "    <tr>\n",
       "      <th>koi_insol_err2</th>\n",
       "      <td>59</td>\n",
       "      <td>0.732555</td>\n",
       "    </tr>\n",
       "    <tr>\n",
       "      <th>koi_kepmag</th>\n",
       "      <td>1</td>\n",
       "      <td>0.012416</td>\n",
       "    </tr>\n",
       "    <tr>\n",
       "      <th>koi_tce_plnt_num</th>\n",
       "      <td>0</td>\n",
       "      <td>0.000000</td>\n",
       "    </tr>\n",
       "    <tr>\n",
       "      <th>koi_tce_delivname</th>\n",
       "      <td>0</td>\n",
       "      <td>0.000000</td>\n",
       "    </tr>\n",
       "    <tr>\n",
       "      <th>koi_disposition</th>\n",
       "      <td>0</td>\n",
       "      <td>0.000000</td>\n",
       "    </tr>\n",
       "    <tr>\n",
       "      <th>koi_score</th>\n",
       "      <td>0</td>\n",
       "      <td>0.000000</td>\n",
       "    </tr>\n",
       "    <tr>\n",
       "      <th>koi_pdisposition</th>\n",
       "      <td>0</td>\n",
       "      <td>0.000000</td>\n",
       "    </tr>\n",
       "    <tr>\n",
       "      <th>koi_fpflag_nt</th>\n",
       "      <td>0</td>\n",
       "      <td>0.000000</td>\n",
       "    </tr>\n",
       "    <tr>\n",
       "      <th>koi_fpflag_ss</th>\n",
       "      <td>0</td>\n",
       "      <td>0.000000</td>\n",
       "    </tr>\n",
       "    <tr>\n",
       "      <th>koi_duration</th>\n",
       "      <td>0</td>\n",
       "      <td>0.000000</td>\n",
       "    </tr>\n",
       "    <tr>\n",
       "      <th>koi_fpflag_co</th>\n",
       "      <td>0</td>\n",
       "      <td>0.000000</td>\n",
       "    </tr>\n",
       "    <tr>\n",
       "      <th>koi_fpflag_ec</th>\n",
       "      <td>0</td>\n",
       "      <td>0.000000</td>\n",
       "    </tr>\n",
       "    <tr>\n",
       "      <th>koi_period</th>\n",
       "      <td>0</td>\n",
       "      <td>0.000000</td>\n",
       "    </tr>\n",
       "    <tr>\n",
       "      <th>ra_str</th>\n",
       "      <td>0</td>\n",
       "      <td>0.000000</td>\n",
       "    </tr>\n",
       "    <tr>\n",
       "      <th>dec_str</th>\n",
       "      <td>0</td>\n",
       "      <td>0.000000</td>\n",
       "    </tr>\n",
       "    <tr>\n",
       "      <th>koi_time0bk</th>\n",
       "      <td>0</td>\n",
       "      <td>0.000000</td>\n",
       "    </tr>\n",
       "  </tbody>\n",
       "</table>\n",
       "</div>"
      ],
      "text/plain": [
       "                   count          %\n",
       "kepler_name         5398  67.022597\n",
       "koi_steff_err2       162   2.011423\n",
       "koi_period_err2      150   1.862429\n",
       "koi_depth_err1       150   1.862429\n",
       "koi_duration_err2    150   1.862429\n",
       "koi_duration_err1    150   1.862429\n",
       "koi_impact_err2      150   1.862429\n",
       "koi_impact_err1      150   1.862429\n",
       "koi_time0bk_err2     150   1.862429\n",
       "koi_time0bk_err1     150   1.862429\n",
       "koi_depth_err2       150   1.862429\n",
       "koi_period_err1      150   1.862429\n",
       "koi_srad_err2        147   1.825180\n",
       "koi_srad_err1        147   1.825180\n",
       "koi_slogg_err2       147   1.825180\n",
       "koi_slogg_err1       147   1.825180\n",
       "koi_steff_err1       147   1.825180\n",
       "koi_insol_err1        59   0.732555\n",
       "koi_prad              59   0.732555\n",
       "koi_insol             59   0.732555\n",
       "koi_teq               59   0.732555\n",
       "koi_prad_err2         59   0.732555\n",
       "koi_prad_err1         59   0.732555\n",
       "koi_depth             59   0.732555\n",
       "koi_steff             59   0.732555\n",
       "koi_model_snr         59   0.732555\n",
       "koi_slogg             59   0.732555\n",
       "koi_srad              59   0.732555\n",
       "koi_impact            59   0.732555\n",
       "koi_insol_err2        59   0.732555\n",
       "koi_kepmag             1   0.012416\n",
       "koi_tce_plnt_num       0   0.000000\n",
       "koi_tce_delivname      0   0.000000\n",
       "koi_disposition        0   0.000000\n",
       "koi_score              0   0.000000\n",
       "koi_pdisposition       0   0.000000\n",
       "koi_fpflag_nt          0   0.000000\n",
       "koi_fpflag_ss          0   0.000000\n",
       "koi_duration           0   0.000000\n",
       "koi_fpflag_co          0   0.000000\n",
       "koi_fpflag_ec          0   0.000000\n",
       "koi_period             0   0.000000\n",
       "ra_str                 0   0.000000\n",
       "dec_str                0   0.000000\n",
       "koi_time0bk            0   0.000000"
      ]
     },
     "execution_count": 185,
     "metadata": {},
     "output_type": "execute_result"
    }
   ],
   "source": [
    "#Creating a data frame for visualizing the missing values in raw data\n",
    "missing = pd.concat([df.isnull().sum(), 100 * df.isnull().mean()], axis=1)\n",
    "missing.columns=['count', '%']\n",
    "missing.sort_values(by='count', ascending=False)"
   ]
  },
  {
   "cell_type": "code",
   "execution_count": 186,
   "metadata": {},
   "outputs": [
    {
     "data": {
      "text/plain": [
       "Index(['kepler_name', 'koi_disposition', 'koi_pdisposition', 'koi_score',\n",
       "       'koi_fpflag_nt', 'koi_fpflag_ss', 'koi_fpflag_co', 'koi_fpflag_ec',\n",
       "       'koi_period', 'koi_period_err1', 'koi_period_err2', 'koi_time0bk',\n",
       "       'koi_time0bk_err1', 'koi_time0bk_err2', 'koi_impact', 'koi_impact_err1',\n",
       "       'koi_impact_err2', 'koi_duration', 'koi_duration_err1',\n",
       "       'koi_duration_err2', 'koi_depth', 'koi_depth_err1', 'koi_depth_err2',\n",
       "       'koi_prad', 'koi_prad_err1', 'koi_prad_err2', 'koi_teq', 'koi_insol',\n",
       "       'koi_insol_err1', 'koi_insol_err2', 'koi_model_snr', 'koi_tce_plnt_num',\n",
       "       'koi_tce_delivname', 'koi_steff', 'koi_steff_err1', 'koi_steff_err2',\n",
       "       'koi_slogg', 'koi_slogg_err1', 'koi_slogg_err2', 'koi_srad',\n",
       "       'koi_srad_err1', 'koi_srad_err2', 'ra_str', 'dec_str', 'koi_kepmag'],\n",
       "      dtype='object')"
      ]
     },
     "execution_count": 186,
     "metadata": {},
     "output_type": "execute_result"
    }
   ],
   "source": [
    "df.columns"
   ]
  },
  {
   "cell_type": "code",
   "execution_count": 187,
   "metadata": {},
   "outputs": [
    {
     "name": "stdout",
     "output_type": "stream",
     "text": [
      "There are 8054 non-zero values out of 8054 in 'koi_disposition'\n",
      "Number of unique values: 3\n",
      "Unique Values: ['FALSE POSITIVE' 'CONFIRMED' 'CANDIDATE']\n",
      "\n",
      "<class 'pandas.core.series.Series'>\n",
      "RangeIndex: 8054 entries, 0 to 8053\n",
      "Series name: koi_disposition\n",
      "Non-Null Count  Dtype \n",
      "--------------  ----- \n",
      "8054 non-null   object\n",
      "dtypes: object(1)\n",
      "memory usage: 63.0+ KB\n"
     ]
    },
    {
     "data": {
      "text/plain": [
       "'\\nThis will be the label (3 classes)\\nnon null\\nneed to check class imbalance \\nREADY FOR EDA \\n'"
      ]
     },
     "execution_count": 187,
     "metadata": {},
     "output_type": "execute_result"
    }
   ],
   "source": [
    "s_f(df, 'koi_disposition') #Summary feature 'koi_disposition'\n",
    "'''\n",
    "This will be the label (3 classes)\n",
    "non null\n",
    "need to check class imbalance \n",
    "READY FOR EDA \n",
    "'''"
   ]
  },
  {
   "cell_type": "code",
   "execution_count": 188,
   "metadata": {},
   "outputs": [
    {
     "name": "stdout",
     "output_type": "stream",
     "text": [
      "There are 8054 non-zero values out of 8054 in 'koi_pdisposition'\n",
      "Number of unique values: 2\n",
      "Unique Values: ['FALSE POSITIVE' 'CANDIDATE']\n",
      "\n",
      "<class 'pandas.core.series.Series'>\n",
      "RangeIndex: 8054 entries, 0 to 8053\n",
      "Series name: koi_pdisposition\n",
      "Non-Null Count  Dtype \n",
      "--------------  ----- \n",
      "8054 non-null   object\n",
      "dtypes: object(1)\n",
      "memory usage: 63.0+ KB\n"
     ]
    },
    {
     "data": {
      "text/plain": [
       "'\\nconsidering dropping Project Disposition Columns\\nconsidering one model with and without Project Disposition Columns\\nnon null\\nbinary flag feature\\n'"
      ]
     },
     "execution_count": 188,
     "metadata": {},
     "output_type": "execute_result"
    }
   ],
   "source": [
    "s_f(df, 'koi_pdisposition') #Summary feature 'koi_pdisposition'\n",
    "'''\n",
    "considering dropping Project Disposition Columns\n",
    "considering one model with and without Project Disposition Columns\n",
    "non null\n",
    "binary flag feature\n",
    "'''"
   ]
  },
  {
   "cell_type": "code",
   "execution_count": 189,
   "metadata": {},
   "outputs": [
    {
     "name": "stdout",
     "output_type": "stream",
     "text": [
      "There are 4572 non-zero values out of 8054 in 'koi_score'\n",
      "Number of unique values: 650\n",
      "Unique Values: [0.    1.    0.871 0.992 0.999 0.996 0.997 0.989 0.959 0.998 0.966 0.758\n",
      " 0.884 0.983 0.981 0.984 0.978 0.913 0.002 0.909 0.995 0.98  0.971 0.878\n",
      " 0.632 0.557 0.008 0.974 0.285 0.68  0.994 0.95  0.91  0.939 0.991 0.754\n",
      " 0.811 0.987 0.957 0.762 0.985 0.942 0.711 0.881 0.014 0.573 0.876 0.848\n",
      " 0.961 0.975 0.895 0.086 0.242 0.94  0.545 0.993 0.149 0.99  0.964 0.795\n",
      " 0.752 0.098 0.976 0.894 0.483 0.952 0.866 0.046 0.695 0.821 0.8   0.819\n",
      " 0.436 0.973 0.934 0.965 0.117 0.96  0.773 0.953 0.704 0.705 0.378 0.988\n",
      " 0.053 0.635 0.745 0.875 0.949 0.04  0.885 0.927 0.936 0.415 0.986 0.137\n",
      " 0.047 0.896 0.174 0.982 0.931 0.912 0.037 0.228 0.968 0.945 0.765 0.815\n",
      " 0.001 0.915 0.929 0.969 0.006 0.92  0.729 0.908 0.829 0.003 0.565 0.938\n",
      " 0.979 0.889 0.404 0.638 0.552 0.922 0.883 0.944 0.464 0.234 0.243 0.899\n",
      " 0.951 0.015 0.036 0.305 0.868 0.958 0.808 0.907 0.946 0.802 0.004 0.956\n",
      " 0.4   0.496 0.013 0.947 0.01  0.739 0.891 0.85  0.862 0.354 0.717 0.582\n",
      " 0.343 0.045 0.677 0.972 0.406 0.059 0.029 0.199 0.08  0.893 0.836 0.743\n",
      " 0.933 0.761 0.742 0.384 0.009 0.861 0.691 0.087 0.901 0.97  0.921 0.471\n",
      " 0.903 0.084 0.329 0.448 0.842 0.017 0.9   0.427 0.857 0.693 0.738 0.269\n",
      " 0.365 0.847 0.89  0.937 0.854 0.749 0.425 0.867 0.041 0.924 0.967 0.873\n",
      " 0.784 0.859 0.757 0.217 0.49  0.488 0.759 0.838 0.874 0.025 0.879 0.526\n",
      " 0.898 0.485 0.803 0.005 0.085 0.186 0.926 0.733 0.359 0.636 0.877 0.619\n",
      " 0.905 0.536 0.498 0.383 0.331 0.791 0.407 0.911 0.797 0.294 0.932 0.855\n",
      " 0.554 0.46  0.783 0.897 0.649 0.886 0.852 0.424 0.776 0.188 0.349 0.007\n",
      " 0.919 0.122 0.28  0.387 0.943 0.441 0.955 0.977 0.133 0.82  0.748 0.371\n",
      " 0.603 0.863 0.816 0.69  0.056 0.15  0.917 0.763 0.833 0.856 0.063 0.809\n",
      " 0.022 0.011 0.514 0.962 0.274 0.935 0.887 0.834 0.258 0.925 0.522 0.1\n",
      " 0.216 0.024 0.786 0.254 0.351 0.963 0.598 0.916 0.196 0.651 0.673 0.692\n",
      " 0.918 0.614 0.333 0.57  0.904 0.719 0.771 0.073 0.844 0.804 0.256 0.941\n",
      " 0.86  0.027 0.402 0.054 0.948 0.767 0.052 0.556 0.394 0.849 0.521 0.864\n",
      " 0.93  0.813 0.902 0.132 0.019 0.409 0.579 0.828 0.67  0.846 0.146 0.135\n",
      " 0.88  0.606 0.476 0.393 0.012 0.618 0.709 0.73  0.954 0.882 0.736 0.814\n",
      " 0.892 0.508 0.755 0.59  0.799 0.374 0.923 0.502 0.865 0.018 0.207 0.495\n",
      " 0.87  0.553 0.858 0.768 0.179 0.094 0.782 0.484 0.134 0.45  0.785 0.189\n",
      " 0.129 0.812 0.79  0.276 0.831 0.675 0.275 0.644 0.334 0.446 0.609 0.309\n",
      " 0.7   0.817 0.665 0.753 0.325 0.511 0.034 0.184 0.775 0.741 0.405 0.136\n",
      " 0.193 0.125 0.806 0.835 0.625 0.654 0.089 0.021 0.571 0.798 0.273 0.433\n",
      " 0.528 0.563 0.766 0.686 0.872 0.823 0.633 0.313 0.534 0.676 0.914 0.694\n",
      " 0.493 0.825 0.429 0.869 0.827 0.607 0.627 0.789 0.928 0.185 0.467 0.794\n",
      " 0.84  0.131 0.233 0.568 0.648 0.048 0.176 0.175 0.643 0.088 0.56  0.298\n",
      " 0.52  0.832 0.37  0.629 0.281 0.805 0.072 0.492 0.507 0.049 0.737 0.777\n",
      " 0.744 0.301 0.558 0.562 0.44  0.13  0.292 0.851 0.141 0.414 0.523 0.716\n",
      " 0.612 0.156 0.78  0.17  0.376 0.283 0.479 0.452 0.506 0.413 0.061 0.113\n",
      " 0.364 0.55  0.76  0.181 0.038 0.335 0.839 0.238 0.266 0.067 0.106 0.11\n",
      " 0.491 0.368 0.769 0.097 0.147 0.592 0.708 0.362 0.656 0.382 0.197 0.077\n",
      " 0.102 0.212 0.347 0.272 0.311 0.107 0.128 0.09  0.291 0.61  0.126 0.721\n",
      " 0.801 0.322 0.469 0.05  0.042 0.252 0.153 0.168 0.388 0.127 0.231 0.114\n",
      " 0.253 0.198 0.078 0.204 0.203 0.34  0.578 0.284 0.12  0.104 0.289 0.229\n",
      " 0.277 0.397 0.451 0.016 0.318 0.826 0.843 0.152 0.058 0.416 0.295 0.541\n",
      " 0.449 0.702 0.672 0.112 0.646 0.358 0.669 0.337 0.77  0.307 0.74  0.206\n",
      " 0.529 0.03  0.497 0.316 0.356 0.116 0.121 0.779 0.323 0.118 0.315 0.532\n",
      " 0.386 0.092 0.3   0.519 0.115 0.19  0.788 0.267 0.303 0.02  0.602 0.837\n",
      " 0.559 0.103 0.057 0.157 0.035 0.701 0.685 0.668 0.348 0.475 0.075 0.381\n",
      " 0.224 0.043 0.167 0.655 0.191 0.044 0.074 0.223 0.108 0.079 0.255 0.169\n",
      " 0.324 0.731 0.083 0.163 0.718 0.658 0.75  0.622 0.23  0.065 0.259 0.22\n",
      " 0.096 0.265 0.465 0.487 0.247 0.444 0.246 0.293 0.066 0.525 0.513 0.071\n",
      " 0.202 0.312 0.208 0.251 0.888 0.756 0.235 0.139 0.262 0.159 0.363 0.039\n",
      " 0.772 0.616]\n",
      "\n",
      "<class 'pandas.core.series.Series'>\n",
      "RangeIndex: 8054 entries, 0 to 8053\n",
      "Series name: koi_score\n",
      "Non-Null Count  Dtype  \n",
      "--------------  -----  \n",
      "8054 non-null   float64\n",
      "dtypes: float64(1)\n",
      "memory usage: 63.0 KB\n"
     ]
    },
    {
     "data": {
      "text/plain": [
       "'\\nconsidering dropping Project Disposition Columns\\nconsidering one model with and without Project Disposition Columns\\nnon null\\nprobabilities from 0 to 1 of koi_pdisposition\\n'"
      ]
     },
     "execution_count": 189,
     "metadata": {},
     "output_type": "execute_result"
    }
   ],
   "source": [
    "s_f(df, 'koi_score') #Summary feature 'koi_score'\n",
    "'''\n",
    "considering dropping Project Disposition Columns\n",
    "considering one model with and without Project Disposition Columns\n",
    "non null\n",
    "probabilities from 0 to 1 of koi_pdisposition\n",
    "'''"
   ]
  },
  {
   "cell_type": "code",
   "execution_count": 190,
   "metadata": {},
   "outputs": [
    {
     "name": "stdout",
     "output_type": "stream",
     "text": [
      "There are 995 non-zero values out of 8054 in 'koi_fpflag_nt'\n",
      "Number of unique values: 2\n",
      "Unique Values: [0 1]\n",
      "\n",
      "<class 'pandas.core.series.Series'>\n",
      "RangeIndex: 8054 entries, 0 to 8053\n",
      "Series name: koi_fpflag_nt\n",
      "Non-Null Count  Dtype\n",
      "--------------  -----\n",
      "8054 non-null   int64\n",
      "dtypes: int64(1)\n",
      "memory usage: 63.0 KB\n"
     ]
    },
    {
     "data": {
      "text/plain": [
       "'\\nconsidering dropping Project Disposition Columns\\nconsidering one model with and without Project Disposition Columns\\nnon null\\nbinary flag feature\\n'"
      ]
     },
     "execution_count": 190,
     "metadata": {},
     "output_type": "execute_result"
    }
   ],
   "source": [
    "s_f(df, 'koi_fpflag_nt') #Summary feature 'koi_fpflag_nt'\n",
    "'''\n",
    "considering dropping Project Disposition Columns\n",
    "considering one model with and without Project Disposition Columns\n",
    "non null\n",
    "binary flag feature\n",
    "'''"
   ]
  },
  {
   "cell_type": "code",
   "execution_count": 191,
   "metadata": {},
   "outputs": [
    {
     "name": "stdout",
     "output_type": "stream",
     "text": [
      "There are 2145 non-zero values out of 8054 in 'koi_fpflag_ss'\n",
      "Number of unique values: 2\n",
      "Unique Values: [1 0]\n",
      "\n",
      "<class 'pandas.core.series.Series'>\n",
      "RangeIndex: 8054 entries, 0 to 8053\n",
      "Series name: koi_fpflag_ss\n",
      "Non-Null Count  Dtype\n",
      "--------------  -----\n",
      "8054 non-null   int64\n",
      "dtypes: int64(1)\n",
      "memory usage: 63.0 KB\n"
     ]
    },
    {
     "data": {
      "text/plain": [
       "'\\nconsidering dropping Project Disposition Columns\\nconsidering one model with and without Project Disposition Columns\\nnon null\\nbinary flag feature\\n'"
      ]
     },
     "execution_count": 191,
     "metadata": {},
     "output_type": "execute_result"
    }
   ],
   "source": [
    "s_f(df, 'koi_fpflag_ss') #Summary feature 'koi_fpflag_ss'\n",
    "'''\n",
    "considering dropping Project Disposition Columns\n",
    "considering one model with and without Project Disposition Columns\n",
    "non null\n",
    "binary flag feature\n",
    "'''"
   ]
  },
  {
   "cell_type": "code",
   "execution_count": 192,
   "metadata": {},
   "outputs": [
    {
     "name": "stdout",
     "output_type": "stream",
     "text": [
      "There are 1752 non-zero values out of 8054 in 'koi_fpflag_co'\n",
      "Number of unique values: 2\n",
      "Unique Values: [0 1]\n",
      "\n",
      "<class 'pandas.core.series.Series'>\n",
      "RangeIndex: 8054 entries, 0 to 8053\n",
      "Series name: koi_fpflag_co\n",
      "Non-Null Count  Dtype\n",
      "--------------  -----\n",
      "8054 non-null   int64\n",
      "dtypes: int64(1)\n",
      "memory usage: 63.0 KB\n"
     ]
    },
    {
     "data": {
      "text/plain": [
       "'\\nconsidering dropping Project Disposition Columns\\nconsidering one model with and without Project Disposition Columns\\nnon null\\nbinary flag feature\\n'"
      ]
     },
     "execution_count": 192,
     "metadata": {},
     "output_type": "execute_result"
    }
   ],
   "source": [
    "s_f(df, 'koi_fpflag_co') #Summary feature 'koi_fpflag_co'\n",
    "'''\n",
    "considering dropping Project Disposition Columns\n",
    "considering one model with and without Project Disposition Columns\n",
    "non null\n",
    "binary flag feature\n",
    "'''"
   ]
  },
  {
   "cell_type": "code",
   "execution_count": 193,
   "metadata": {},
   "outputs": [
    {
     "name": "stdout",
     "output_type": "stream",
     "text": [
      "There are 1087 non-zero values out of 8054 in 'koi_fpflag_ec'\n",
      "Number of unique values: 2\n",
      "Unique Values: [0 1]\n",
      "\n",
      "<class 'pandas.core.series.Series'>\n",
      "RangeIndex: 8054 entries, 0 to 8053\n",
      "Series name: koi_fpflag_ec\n",
      "Non-Null Count  Dtype\n",
      "--------------  -----\n",
      "8054 non-null   int64\n",
      "dtypes: int64(1)\n",
      "memory usage: 63.0 KB\n"
     ]
    },
    {
     "data": {
      "text/plain": [
       "'\\nconsidering dropping Project Disposition Columns\\nnon null\\nbinary flag feature\\n'"
      ]
     },
     "execution_count": 193,
     "metadata": {},
     "output_type": "execute_result"
    }
   ],
   "source": [
    "s_f(df, 'koi_fpflag_ec') #Summary feature 'koi_fpflag_ec'\n",
    "'''\n",
    "considering dropping Project Disposition Columns\n",
    "non null\n",
    "binary flag feature\n",
    "'''"
   ]
  },
  {
   "cell_type": "code",
   "execution_count": 194,
   "metadata": {},
   "outputs": [
    {
     "name": "stdout",
     "output_type": "stream",
     "text": [
      "There are 8054 non-zero values out of 8054 in 'koi_period_err1'\n",
      "Number of unique values: 6438\n",
      "Unique Values: [1.494e-05 2.630e-07 3.761e-06 ... 3.579e-05 8.150e-06 7.193e-05]\n",
      "\n",
      "<class 'pandas.core.series.Series'>\n",
      "RangeIndex: 8054 entries, 0 to 8053\n",
      "Series name: koi_period_err1\n",
      "Non-Null Count  Dtype  \n",
      "--------------  -----  \n",
      "7904 non-null   float64\n",
      "dtypes: float64(1)\n",
      "memory usage: 63.0 KB\n"
     ]
    },
    {
     "data": {
      "text/plain": [
       "'\\n142 missing values \\nneed to add this value to koi_period feature\\nall float64\\n'"
      ]
     },
     "execution_count": 194,
     "metadata": {},
     "output_type": "execute_result"
    }
   ],
   "source": [
    "s_f(df, 'koi_period_err1') #Summary feature 'koi_period_err1'\n",
    "'''\n",
    "142 missing values \n",
    "need to add this value to koi_period feature\n",
    "all float64\n",
    "'''"
   ]
  },
  {
   "cell_type": "code",
   "execution_count": 195,
   "metadata": {},
   "outputs": [
    {
     "name": "stdout",
     "output_type": "stream",
     "text": [
      "There are 8054 non-zero values out of 8054 in 'koi_period_err2'\n",
      "Number of unique values: 6438\n",
      "Unique Values: [-1.494e-05 -2.630e-07 -3.761e-06 ... -3.579e-05 -8.150e-06 -7.193e-05]\n",
      "\n",
      "<class 'pandas.core.series.Series'>\n",
      "RangeIndex: 8054 entries, 0 to 8053\n",
      "Series name: koi_period_err2\n",
      "Non-Null Count  Dtype  \n",
      "--------------  -----  \n",
      "7904 non-null   float64\n",
      "dtypes: float64(1)\n",
      "memory usage: 63.0 KB\n"
     ]
    },
    {
     "data": {
      "text/plain": [
       "'\\n142 missing values \\nneed to substract this value to koi_period feature\\nall float64\\n'"
      ]
     },
     "execution_count": 195,
     "metadata": {},
     "output_type": "execute_result"
    }
   ],
   "source": [
    "s_f(df, 'koi_period_err2') #Summary feature 'koi_period_err2'\n",
    "'''\n",
    "142 missing values \n",
    "need to substract this value to koi_period feature\n",
    "all float64\n",
    "'''"
   ]
  },
  {
   "cell_type": "code",
   "execution_count": 196,
   "metadata": {},
   "outputs": [
    {
     "name": "stdout",
     "output_type": "stream",
     "text": [
      "There are 8054 non-zero values out of 8054 in 'koi_time0bk'\n",
      "Number of unique values: 8034\n",
      "Unique Values: [175.850252 170.307565 171.59555  ... 178.78285  137.613711 182.92295 ]\n",
      "\n",
      "<class 'pandas.core.series.Series'>\n",
      "RangeIndex: 8054 entries, 0 to 8053\n",
      "Series name: koi_time0bk\n",
      "Non-Null Count  Dtype  \n",
      "--------------  -----  \n",
      "8054 non-null   float64\n",
      "dtypes: float64(1)\n",
      "memory usage: 63.0 KB\n"
     ]
    },
    {
     "data": {
      "text/plain": [
       "'\\n0 missing values (not equal to positive and negative uncertanties)\\nneed to add uncertanties and handle it as a range\\nall records non null, we may disregard the ranges or fill the ones with zeros\\nall float64\\n'"
      ]
     },
     "execution_count": 196,
     "metadata": {},
     "output_type": "execute_result"
    }
   ],
   "source": [
    "s_f(df, 'koi_time0bk') #Summary feature 'koi_time0bk'\n",
    "'''\n",
    "0 missing values (not equal to positive and negative uncertanties)\n",
    "need to add uncertanties and handle it as a range\n",
    "all records non null, we may disregard the ranges or fill the ones with zeros\n",
    "all float64\n",
    "'''"
   ]
  },
  {
   "cell_type": "code",
   "execution_count": 197,
   "metadata": {},
   "outputs": [
    {
     "name": "stdout",
     "output_type": "stream",
     "text": [
      "There are 8054 non-zero values out of 8054 in 'koi_time0bk_err1'\n",
      "Number of unique values: 2375\n",
      "Unique Values: [0.000581 0.000115 0.00113  ... 0.000888 0.000937 0.00215 ]\n",
      "\n",
      "<class 'pandas.core.series.Series'>\n",
      "RangeIndex: 8054 entries, 0 to 8053\n",
      "Series name: koi_time0bk_err1\n",
      "Non-Null Count  Dtype  \n",
      "--------------  -----  \n",
      "7904 non-null   float64\n",
      "dtypes: float64(1)\n",
      "memory usage: 63.0 KB\n"
     ]
    },
    {
     "data": {
      "text/plain": [
       "'\\n142 missing values \\nneed to add this value to koi_time0bk feature\\nall float64\\n'"
      ]
     },
     "execution_count": 197,
     "metadata": {},
     "output_type": "execute_result"
    }
   ],
   "source": [
    "s_f(df, 'koi_time0bk_err1') #Summary feature 'koi_time0bk_err1'\n",
    "'''\n",
    "142 missing values \n",
    "need to add this value to koi_time0bk feature\n",
    "all float64\n",
    "'''"
   ]
  },
  {
   "cell_type": "code",
   "execution_count": 198,
   "metadata": {},
   "outputs": [
    {
     "name": "stdout",
     "output_type": "stream",
     "text": [
      "There are 8054 non-zero values out of 8054 in 'koi_time0bk_err2'\n",
      "Number of unique values: 2375\n",
      "Unique Values: [-0.000581 -0.000115 -0.00113  ... -0.000888 -0.000937 -0.00215 ]\n",
      "\n",
      "<class 'pandas.core.series.Series'>\n",
      "RangeIndex: 8054 entries, 0 to 8053\n",
      "Series name: koi_time0bk_err2\n",
      "Non-Null Count  Dtype  \n",
      "--------------  -----  \n",
      "7904 non-null   float64\n",
      "dtypes: float64(1)\n",
      "memory usage: 63.0 KB\n"
     ]
    },
    {
     "data": {
      "text/plain": [
       "'\\n142 missing values \\nneed to substract this value to koi_time0bk feature\\nall float64\\n'"
      ]
     },
     "execution_count": 198,
     "metadata": {},
     "output_type": "execute_result"
    }
   ],
   "source": [
    "s_f(df, 'koi_time0bk_err2') #Summary feature 'koi_time0bk_err2'\n",
    "'''\n",
    "142 missing values \n",
    "need to substract this value to koi_time0bk feature\n",
    "all float64\n",
    "'''"
   ]
  },
  {
   "cell_type": "code",
   "execution_count": 199,
   "metadata": {},
   "outputs": [
    {
     "name": "stdout",
     "output_type": "stream",
     "text": [
      "There are 8039 non-zero values out of 8054 in 'koi_impact'\n",
      "Number of unique values: 1391\n",
      "Unique Values: [0.969 1.276 0.701 ... 1.475 2.824 1.588]\n",
      "\n",
      "<class 'pandas.core.series.Series'>\n",
      "RangeIndex: 8054 entries, 0 to 8053\n",
      "Series name: koi_impact\n",
      "Non-Null Count  Dtype  \n",
      "--------------  -----  \n",
      "7995 non-null   float64\n",
      "dtypes: float64(1)\n",
      "memory usage: 63.0 KB\n"
     ]
    },
    {
     "data": {
      "text/plain": [
       "'\\n51 missing values (not equal to positive and negative uncertanties)\\nneed to add uncertanties and handle it as a range\\nrecords with koi_depth values but not uncertanties can be considered as uncertanties zero\\nall float64\\n'"
      ]
     },
     "execution_count": 199,
     "metadata": {},
     "output_type": "execute_result"
    }
   ],
   "source": [
    "s_f(df, 'koi_impact') #Summary feature 'koi_impact'\n",
    "'''\n",
    "51 missing values (not equal to positive and negative uncertanties)\n",
    "need to add uncertanties and handle it as a range\n",
    "records with koi_depth values but not uncertanties can be considered as uncertanties zero\n",
    "all float64\n",
    "'''"
   ]
  },
  {
   "cell_type": "code",
   "execution_count": 200,
   "metadata": {},
   "outputs": [
    {
     "name": "stdout",
     "output_type": "stream",
     "text": [
      "There are 8030 non-zero values out of 8054 in 'koi_impact_err1'\n",
      "Number of unique values: 1266\n",
      "Unique Values: [5.126 0.115 0.235 ... 0.548 7.582 6.629]\n",
      "\n",
      "<class 'pandas.core.series.Series'>\n",
      "RangeIndex: 8054 entries, 0 to 8053\n",
      "Series name: koi_impact_err1\n",
      "Non-Null Count  Dtype  \n",
      "--------------  -----  \n",
      "7904 non-null   float64\n",
      "dtypes: float64(1)\n",
      "memory usage: 63.0 KB\n"
     ]
    },
    {
     "data": {
      "text/plain": [
       "'\\n142 missing values \\nneed to add this value to koi_impact feature\\nall float64\\n'"
      ]
     },
     "execution_count": 200,
     "metadata": {},
     "output_type": "execute_result"
    }
   ],
   "source": [
    "s_f(df, 'koi_impact_err1') #Summary feature 'koi_impact_err1'\n",
    "'''\n",
    "142 missing values \n",
    "need to add this value to koi_impact feature\n",
    "all float64\n",
    "'''"
   ]
  },
  {
   "cell_type": "code",
   "execution_count": 201,
   "metadata": {},
   "outputs": [
    {
     "name": "stdout",
     "output_type": "stream",
     "text": [
      "There are 8021 non-zero values out of 8054 in 'koi_impact_err2'\n",
      "Number of unique values: 872\n",
      "Unique Values: [-7.700e-02 -9.200e-02 -4.780e-01 -4.280e-01 -5.320e-01 -4.760e-01\n",
      " -5.230e-01 -8.000e-03 -1.400e-02 -2.350e-01 -5.210e-01 -3.780e-01\n",
      " -3.500e-02 -4.800e-02 -1.150e-01 -5.430e-01 -3.300e-02 -5.200e-02\n",
      " -1.810e-01 -2.300e-02 -5.090e-01 -3.290e-01 -5.410e-01 -2.200e-02\n",
      " -8.800e-02 -6.400e-02 -4.100e-02 -3.100e-02 -3.910e-01 -6.730e-01\n",
      " -5.760e-01 -2.900e-02 -4.080e-01 -4.000e-03 -2.662e+00 -4.300e-02\n",
      " -3.570e-01 -3.600e-02 -3.300e-01 -1.200e-01 -5.160e-01 -3.850e-01\n",
      " -2.570e-01 -4.190e-01 -5.310e-01 -3.900e-01 -1.000e-02 -4.730e-01\n",
      " -5.400e-02 -2.500e-02 -1.900e-02 -1.100e-01 -7.450e-01 -5.190e-01\n",
      " -4.420e-01 -5.530e-01 -5.130e-01 -2.040e-01 -1.300e-02 -5.950e-01\n",
      " -4.970e-01 -2.960e-01 -8.700e-02 -2.800e-01 -1.017e+01 -1.780e-01\n",
      " -6.600e-02 -8.400e-02 -7.000e-03 -1.700e-02 -1.730e-01 -2.130e-01\n",
      " -3.800e-01 -4.160e-01 -6.710e-01 -6.230e-01 -5.830e-01 -3.980e-01\n",
      " -1.350e-01 -5.370e-01 -4.200e-02 -3.000e-03 -5.990e-01 -1.000e-03\n",
      " -4.400e-02 -2.260e-01 -6.630e-01 -4.500e-02 -1.050e-01 -5.510e-01\n",
      " -2.100e-02 -4.000e-01 -4.960e-01 -3.000e-01 -2.400e-02 -6.300e-02\n",
      " -4.130e-01 -2.550e-01 -4.440e-01 -4.600e-02 -6.000e-02        nan\n",
      " -5.000e-03 -4.410e-01 -3.400e-02 -1.800e-02 -4.340e-01 -3.530e-01\n",
      " -9.000e-03 -8.100e-02 -1.110e-01 -1.590e-01 -5.960e-01 -5.580e-01\n",
      " -4.430e-01 -4.700e-02 -2.590e-01 -3.660e-01 -1.500e-02 -1.430e-01\n",
      " -5.290e-01 -4.000e-02 -5.450e-01 -5.620e-01 -4.840e-01 -8.300e-02\n",
      " -7.100e-01 -7.150e-01 -1.290e-01 -6.270e-01 -6.580e-01 -1.100e-02\n",
      " -5.300e-02 -7.900e-02 -4.480e-01 -5.610e-01 -1.200e-02 -2.980e-01\n",
      " -7.370e-01 -6.350e-01 -3.680e-01 -5.480e-01 -5.170e-01 -5.980e-01\n",
      " -5.120e-01 -2.160e-01 -5.100e-02 -5.400e-01 -5.340e-01 -5.970e-01\n",
      " -7.000e-02 -2.800e-02 -3.550e-01 -1.500e-01 -5.650e-01 -1.010e-01\n",
      " -3.860e-01 -2.580e-01 -6.990e-01 -5.900e-02 -3.120e-01 -6.210e-01\n",
      " -2.000e-02 -3.670e-01 -4.380e-01 -1.087e+00 -5.600e-01 -4.270e-01\n",
      " -9.300e-02 -3.950e-01 -5.940e-01 -6.100e-02 -6.440e-01 -1.370e-01\n",
      " -5.500e-02 -2.530e-01 -1.880e-01 -1.320e-01 -6.000e-03 -2.200e-01\n",
      " -6.500e-02 -1.140e-01 -1.190e-01 -3.560e-01 -1.250e-01 -6.700e-02\n",
      " -2.600e-01 -3.770e-01 -3.090e-01 -6.594e+00 -3.140e-01 -6.670e-01\n",
      " -6.790e-01 -2.100e-01 -4.450e-01 -3.740e-01 -2.420e-01 -1.710e-01\n",
      " -1.270e-01 -8.550e-01 -6.800e-02 -5.000e-02 -5.240e-01 -1.790e-01\n",
      " -1.130e-01 -5.850e-01 -2.670e-01 -2.240e-01 -1.490e-01 -6.680e-01\n",
      " -1.020e-01 -5.800e-01 -7.600e-02 -3.190e-01 -2.700e-02 -6.740e-01\n",
      " -3.920e-01 -3.700e-02 -2.320e-01 -5.070e-01 -1.740e-01 -2.480e-01\n",
      " -6.130e-01 -2.120e-01 -4.220e-01 -1.180e-01 -6.300e-01 -7.500e-02\n",
      " -4.300e-01 -4.700e-01 -2.150e-01 -3.470e-01 -6.890e-01 -5.000e-01\n",
      " -1.680e-01 -2.060e-01 -4.660e-01 -6.860e-01 -5.110e-01 -4.900e-01\n",
      " -7.570e-01 -1.630e-01 -2.250e-01 -4.690e-01 -4.860e-01 -5.150e-01\n",
      " -3.110e-01 -8.200e-02 -3.350e-01 -6.510e-01 -3.060e-01 -2.290e-01\n",
      " -6.400e-01 -1.510e-01 -4.050e-01 -2.300e-01 -2.600e-02 -1.960e-01\n",
      " -3.830e-01 -6.470e-01 -3.200e-02 -9.500e-02 -1.640e-01 -4.200e-01\n",
      " -1.600e-02 -5.550e-01 -4.210e-01 -1.000e-01 -6.060e-01 -2.190e-01\n",
      " -6.560e-01 -6.600e-01 -4.460e-01 -3.960e-01 -9.400e-02 -1.280e-01\n",
      " -6.330e-01  0.000e+00 -3.630e-01 -1.080e-01 -3.900e-02 -1.170e-01\n",
      " -5.500e-01 -2.663e+00 -3.000e-02 -5.700e-02 -8.000e-02 -1.420e-01\n",
      " -3.320e-01 -1.240e-01 -3.430e-01 -3.490e-01 -4.150e-01 -2.090e-01\n",
      " -2.510e-01 -2.511e+00 -9.600e-02 -1.060e-01 -2.900e-01 -1.230e-01\n",
      " -4.630e-01 -2.380e-01 -5.890e-01 -1.410e-01 -1.700e-01 -7.200e-02\n",
      " -1.470e-01 -1.610e-01 -1.390e-01 -1.120e-01 -6.380e-01 -1.540e-01\n",
      " -1.850e-01 -6.900e-02 -3.580e-01 -6.120e-01 -1.650e-01 -9.110e-01\n",
      " -7.300e-02 -4.290e-01 -3.870e-01 -1.351e+00 -3.310e-01 -2.560e-01\n",
      " -5.930e-01 -7.000e-01 -6.180e-01 -3.940e-01 -5.560e-01 -1.040e-01\n",
      " -9.900e-02 -1.520e-01 -2.830e-01 -2.490e-01 -6.110e-01 -4.600e-01\n",
      " -2.730e-01 -1.460e-01 -3.270e-01 -2.860e-01 -5.050e-01 -5.380e-01\n",
      " -2.940e-01 -4.330e-01 -3.410e-01 -2.710e-01 -7.070e-01 -4.250e-01\n",
      " -4.910e-01 -4.540e-01 -6.938e+00 -4.650e-01 -1.530e-01 -3.890e-01\n",
      " -4.370e-01 -1.830e-01 -4.920e-01 -5.670e-01 -6.460e-01 -1.239e+00\n",
      " -2.000e-03 -7.110e-01 -9.700e-02 -4.720e-01 -3.790e-01 -6.480e-01\n",
      " -5.720e-01 -2.170e-01 -4.870e-01 -2.370e-01 -3.250e-01 -4.900e-02\n",
      " -4.400e-01 -2.520e-01 -1.920e-01 -2.280e-01 -4.140e-01 -1.360e-01\n",
      " -3.240e-01 -3.360e-01 -1.220e-01 -4.680e-01 -4.940e-01 -4.770e-01\n",
      " -5.860e-01 -4.810e-01 -4.620e-01 -1.670e-01 -1.070e-01 -9.000e-02\n",
      " -4.570e-01 -1.940e-01 -5.800e-02 -5.250e-01 -5.710e-01 -6.490e-01\n",
      " -6.950e-01 -7.400e-02 -6.020e-01 -6.550e-01 -6.310e-01 -5.030e-01\n",
      " -2.020e-01 -9.100e-02 -6.820e-01 -7.140e-01 -3.460e-01 -4.640e-01\n",
      " -2.870e-01 -5.080e-01 -6.430e-01 -5.330e-01 -2.140e-01 -3.510e-01\n",
      " -3.340e-01 -4.510e-01 -5.780e-01 -6.610e-01 -2.070e-01 -1.990e-01\n",
      " -2.660e-01 -6.850e-01 -4.520e-01 -6.780e-01 -5.820e-01 -6.280e-01\n",
      " -4.100e-01 -6.660e-01 -2.470e-01 -2.440e-01 -4.890e-01 -5.870e-01\n",
      " -7.010e-01 -6.650e-01 -1.210e-01 -6.420e-01 -6.390e-01 -4.880e-01\n",
      " -6.830e-01 -2.970e-01 -2.310e-01 -5.300e-01 -2.270e-01 -3.720e-01\n",
      " -4.470e-01 -3.520e-01 -5.660e-01 -5.730e-01 -6.870e-01 -5.640e-01\n",
      " -2.400e-01 -4.030e-01 -4.360e-01 -6.880e-01 -6.010e-01 -4.260e-01\n",
      " -5.060e-01 -2.720e-01 -5.920e-01 -6.980e-01 -7.050e-01 -1.750e-01\n",
      " -3.741e+00 -6.810e-01 -6.190e-01 -6.360e-01 -3.990e-01 -6.750e-01\n",
      " -3.540e-01 -6.520e-01 -2.770e-01 -7.240e-01 -4.320e-01 -3.750e-01\n",
      " -2.840e-01 -7.480e-01 -6.696e+00 -5.360e-01 -7.090e-01 -5.700e-01\n",
      " -6.100e-01 -2.820e-01 -1.660e-01 -3.020e-01 -3.450e-01 -6.800e-01\n",
      " -6.090e-01 -4.750e-01 -1.260e-01 -6.540e-01 -2.850e-01 -6.620e-01\n",
      " -1.367e+00 -4.950e-01 -2.030e-01 -3.070e-01 -2.450e-01 -2.750e-01\n",
      " -6.340e-01 -6.930e-01 -3.170e-01 -6.900e-01 -6.320e-01 -6.960e-01\n",
      " -6.200e-01 -6.260e-01 -4.740e-01 -2.810e-01 -2.630e-01 -6.476e+00\n",
      " -1.690e-01 -5.770e-01 -4.990e-01 -1.090e-01 -6.160e-01 -3.880e-01\n",
      " -2.690e-01 -6.450e-01 -7.290e-01 -6.200e-02 -2.360e-01 -6.910e-01\n",
      " -6.150e-01 -4.590e-01 -3.440e-01 -3.800e-02 -4.550e-01 -3.280e-01\n",
      " -4.039e+00 -7.310e-01 -5.880e-01 -6.000e-01 -6.030e-01 -2.230e-01\n",
      " -5.490e-01 -3.210e-01 -5.690e-01 -6.500e-01 -6.530e-01 -8.930e-01\n",
      " -1.538e+00 -7.100e-02 -5.100e-01 -6.760e-01 -5.420e-01 -3.840e-01\n",
      " -3.760e-01 -5.740e-01 -6.720e-01 -5.750e-01 -5.350e-01 -1.300e-01\n",
      " -5.840e-01 -1.250e+00 -2.610e-01 -5.900e-01 -3.810e-01 -5.910e-01\n",
      " -5.630e-01 -1.980e-01 -4.038e+00 -4.670e-01 -8.500e-02 -4.580e-01\n",
      " -3.590e-01 -3.200e-01 -4.040e-01 -5.600e-02 -1.627e+00 -4.790e-01\n",
      " -1.770e-01 -3.637e+00 -3.700e-01 -1.720e-01 -3.745e+00 -5.180e-01\n",
      " -3.480e-01 -4.060e-01 -1.870e-01 -5.570e-01 -4.930e-01 -1.970e-01\n",
      " -1.600e-01 -1.330e-01 -6.920e-01 -4.010e-01 -6.240e-01 -4.070e-01\n",
      " -5.200e-01 -4.530e-01 -1.800e-01 -2.790e-01 -6.640e-01 -7.800e-02\n",
      " -2.930e-01 -4.180e-01 -3.220e-01 -7.540e-01 -5.440e-01 -6.250e-01\n",
      " -7.360e-01 -6.940e-01 -6.220e-01 -5.280e-01 -2.500e-01 -3.180e-01\n",
      " -3.010e-01 -1.550e-01 -6.570e-01 -3.370e-01 -2.910e-01 -2.340e-01\n",
      " -5.590e-01 -1.570e-01 -2.760e-01 -2.797e+00 -5.452e+00 -3.710e-01\n",
      " -2.925e+00 -2.217e+00 -7.160e-01 -2.890e-01 -3.730e-01 -2.180e-01\n",
      " -3.930e-01 -2.410e-01 -2.640e-01 -3.080e-01 -3.380e-01 -6.410e-01\n",
      " -2.430e-01 -1.030e-01 -6.040e-01 -6.290e-01 -4.610e-01 -4.120e-01\n",
      " -2.920e-01 -2.950e-01 -5.020e-01 -1.620e-01 -5.208e+00 -3.230e-01\n",
      " -7.030e-01 -4.310e-01 -6.690e-01 -1.950e-01 -3.640e-01 -5.460e-01\n",
      " -5.810e-01 -1.954e+00 -1.480e-01 -7.400e-01 -5.390e-01 -2.050e-01\n",
      " -2.650e-01 -3.100e-01 -3.600e-01 -7.280e-01 -4.090e-01 -4.500e-01\n",
      " -1.900e-01 -4.490e-01 -3.330e-01 -5.790e-01 -7.270e-01 -8.900e-02\n",
      " -5.010e-01 -1.580e-01 -5.520e-01 -4.800e-01 -2.780e-01 -2.210e-01\n",
      " -7.170e-01 -1.340e-01 -6.590e-01 -3.500e-01 -1.820e-01 -1.760e-01\n",
      " -1.018e+01 -2.322e+00 -7.120e-01 -4.850e-01 -2.442e+00 -8.600e-02\n",
      " -2.700e-01 -2.620e-01 -3.690e-01 -4.170e-01 -2.740e-01 -1.910e-01\n",
      " -2.015e+00 -1.160e-01 -1.890e-01 -6.840e-01 -2.409e+00 -5.220e-01\n",
      " -7.250e-01 -3.477e+00 -3.050e-01 -2.220e-01 -6.770e-01 -4.560e-01\n",
      " -4.989e+00 -5.260e-01 -2.990e-01 -3.160e-01 -7.190e-01 -2.437e+00\n",
      " -3.150e-01 -6.970e-01 -4.235e+00 -2.110e-01 -7.800e-01 -3.610e-01\n",
      " -4.820e-01 -5.470e-01 -4.561e+00 -5.040e-01 -4.177e+00 -2.080e-01\n",
      " -4.110e-01 -4.240e-01 -6.370e-01 -3.260e-01 -9.810e-01 -3.620e-01\n",
      " -5.680e-01 -7.180e-01 -2.330e-01 -5.140e-01 -3.420e-01 -1.794e+00\n",
      " -1.440e-01 -1.154e+00 -1.180e+00 -7.731e+00 -2.460e-01 -3.449e+00\n",
      " -5.730e+00 -1.944e+00 -6.140e-01 -1.163e+00 -4.390e-01 -3.650e-01\n",
      " -4.350e-01 -1.400e-01 -3.040e-01 -2.239e+00 -3.970e-01 -2.220e+00\n",
      " -9.800e-02 -3.897e+00 -3.030e-01 -3.390e-01 -1.840e-01 -2.010e-01\n",
      " -6.070e-01 -7.230e-01 -5.784e+00 -2.458e+00 -7.860e-01 -4.020e-01\n",
      " -2.227e+00 -7.440e-01 -3.130e-01 -1.953e+00 -1.491e+00 -2.686e+00\n",
      " -1.930e-01 -5.333e+00 -7.700e-01 -4.230e-01 -9.250e-01 -3.321e+00\n",
      " -1.432e+00 -7.420e-01 -7.820e-01 -4.980e-01 -7.510e-01 -7.130e-01\n",
      " -4.710e-01 -3.764e+00 -5.899e+00 -7.210e-01 -7.200e-01 -1.380e-01\n",
      " -9.740e-01 -2.418e+00 -1.590e+00 -7.900e-01 -6.050e-01 -1.129e+00\n",
      " -1.833e+01 -1.303e+00 -4.245e+00 -7.610e-01 -9.200e-01 -9.010e-01\n",
      " -7.850e-01 -1.742e+00 -1.116e+00 -5.540e-01 -1.520e+00 -1.238e+00\n",
      " -7.840e-01 -7.080e-01 -2.000e-01 -7.300e-01 -1.860e-01 -1.095e+00\n",
      " -1.560e-01 -2.680e-01 -7.350e-01 -2.880e-01 -2.390e-01 -3.820e-01\n",
      " -1.743e+00 -2.540e-01 -1.738e+00 -6.170e-01 -8.211e+00 -1.400e+00\n",
      " -8.620e-01 -1.025e+00 -2.993e+00 -1.242e+00 -6.512e+00 -1.310e-01\n",
      " -7.580e-01 -7.710e-01 -8.390e-01 -8.440e-01 -7.650e-01 -2.506e+00\n",
      " -7.730e-01 -1.210e+00 -7.990e-01 -2.333e+00 -4.830e-01 -5.270e-01\n",
      " -1.028e+00 -6.080e-01 -3.400e-01 -7.060e-01 -7.940e-01 -9.190e-01\n",
      " -8.410e-01 -7.810e-01 -9.420e-01 -7.340e-01 -7.790e-01 -8.480e-01\n",
      " -1.450e-01 -7.020e-01 -7.260e-01 -7.640e-01 -8.020e-01 -7.690e-01\n",
      " -7.520e-01 -6.700e-01 -7.220e-01 -7.430e-01 -2.465e+00 -1.694e+00\n",
      " -3.887e+00 -2.501e+00 -7.550e-01 -1.775e+00 -4.340e+00 -4.652e+00\n",
      " -3.631e+00 -2.675e+00 -4.203e+00]\n",
      "\n",
      "<class 'pandas.core.series.Series'>\n",
      "RangeIndex: 8054 entries, 0 to 8053\n",
      "Series name: koi_impact_err2\n",
      "Non-Null Count  Dtype  \n",
      "--------------  -----  \n",
      "7904 non-null   float64\n",
      "dtypes: float64(1)\n",
      "memory usage: 63.0 KB\n"
     ]
    },
    {
     "data": {
      "text/plain": [
       "'\\n142 missing values \\nneed to substract this value to koi_impact feature\\nall float64\\n'"
      ]
     },
     "execution_count": 201,
     "metadata": {},
     "output_type": "execute_result"
    }
   ],
   "source": [
    "s_f(df, 'koi_impact_err2') #Summary feature 'koi_impact_err2'\n",
    "'''\n",
    "142 missing values \n",
    "need to substract this value to koi_impact feature\n",
    "all float64\n",
    "'''"
   ]
  },
  {
   "cell_type": "code",
   "execution_count": 202,
   "metadata": {},
   "outputs": [
    {
     "name": "stdout",
     "output_type": "stream",
     "text": [
      "There are 8054 non-zero values out of 8054 in 'koi_duration'\n",
      "Number of unique values: 6982\n",
      "Unique Values: [1.7822  2.40641 1.6545  ... 4.0819  4.6074  8.6567 ]\n",
      "\n",
      "<class 'pandas.core.series.Series'>\n",
      "RangeIndex: 8054 entries, 0 to 8053\n",
      "Series name: koi_duration\n",
      "Non-Null Count  Dtype  \n",
      "--------------  -----  \n",
      "8054 non-null   float64\n",
      "dtypes: float64(1)\n",
      "memory usage: 63.0 KB\n"
     ]
    },
    {
     "data": {
      "text/plain": [
       "'\\n0 missing values (not equal to positive and negative uncertanties)\\nneed to add uncertanties and handle it as a range\\nall records non null, we may disregard the ranges or fill the ones with zeros\\nall float64\\n'"
      ]
     },
     "execution_count": 202,
     "metadata": {},
     "output_type": "execute_result"
    }
   ],
   "source": [
    "s_f(df, 'koi_duration') #Summary feature 'koi_duration'\n",
    "'''\n",
    "0 missing values (not equal to positive and negative uncertanties)\n",
    "need to add uncertanties and handle it as a range\n",
    "all records non null, we may disregard the ranges or fill the ones with zeros\n",
    "all float64\n",
    "'''"
   ]
  },
  {
   "cell_type": "code",
   "execution_count": 203,
   "metadata": {},
   "outputs": [
    {
     "name": "stdout",
     "output_type": "stream",
     "text": [
      "There are 8037 non-zero values out of 8054 in 'koi_duration_err1'\n",
      "Number of unique values: 2153\n",
      "Unique Values: [0.0341  0.00537 0.042   ... 0.0724  0.0902  0.0751 ]\n",
      "\n",
      "<class 'pandas.core.series.Series'>\n",
      "RangeIndex: 8054 entries, 0 to 8053\n",
      "Series name: koi_duration_err1\n",
      "Non-Null Count  Dtype  \n",
      "--------------  -----  \n",
      "7904 non-null   float64\n",
      "dtypes: float64(1)\n",
      "memory usage: 63.0 KB\n"
     ]
    },
    {
     "data": {
      "text/plain": [
       "'\\n142 missing values \\nneed to add this value to koi_duration feature\\nall float64\\n'"
      ]
     },
     "execution_count": 203,
     "metadata": {},
     "output_type": "execute_result"
    }
   ],
   "source": [
    "s_f(df, 'koi_duration_err1') #Summary feature 'koi_duration_err1'\n",
    "'''\n",
    "142 missing values \n",
    "need to add this value to koi_duration feature\n",
    "all float64\n",
    "'''"
   ]
  },
  {
   "cell_type": "code",
   "execution_count": 204,
   "metadata": {},
   "outputs": [
    {
     "name": "stdout",
     "output_type": "stream",
     "text": [
      "There are 8037 non-zero values out of 8054 in 'koi_duration_err2'\n",
      "Number of unique values: 2153\n",
      "Unique Values: [-0.0341  -0.00537 -0.042   ... -0.0724  -0.0902  -0.0751 ]\n",
      "\n",
      "<class 'pandas.core.series.Series'>\n",
      "RangeIndex: 8054 entries, 0 to 8053\n",
      "Series name: koi_duration_err2\n",
      "Non-Null Count  Dtype  \n",
      "--------------  -----  \n",
      "7904 non-null   float64\n",
      "dtypes: float64(1)\n",
      "memory usage: 63.0 KB\n"
     ]
    },
    {
     "data": {
      "text/plain": [
       "'\\n142 missing values \\nneed to substract this value to koi_duration feature\\nall float64\\n'"
      ]
     },
     "execution_count": 204,
     "metadata": {},
     "output_type": "execute_result"
    }
   ],
   "source": [
    "s_f(df, 'koi_duration_err2') #Summary feature 'koi_duration_err2'\n",
    "'''\n",
    "142 missing values \n",
    "need to substract this value to koi_duration feature\n",
    "all float64\n",
    "'''"
   ]
  },
  {
   "cell_type": "code",
   "execution_count": 205,
   "metadata": {},
   "outputs": [
    {
     "name": "stdout",
     "output_type": "stream",
     "text": [
      "There are 8053 non-zero values out of 8054 in 'koi_depth'\n",
      "Number of unique values: 6343\n",
      "Unique Values: [10829.   8079.2   603.3 ...   663.9   500.9   315.6]\n",
      "\n",
      "<class 'pandas.core.series.Series'>\n",
      "RangeIndex: 8054 entries, 0 to 8053\n",
      "Series name: koi_depth\n",
      "Non-Null Count  Dtype  \n",
      "--------------  -----  \n",
      "7995 non-null   float64\n",
      "dtypes: float64(1)\n",
      "memory usage: 63.0 KB\n"
     ]
    },
    {
     "data": {
      "text/plain": [
       "'\\n51 missing values (not equal to positive and negative uncertanties)\\nneed to add uncertanties and handle it as a range\\nrecords with koi_depth values but not uncertanties can be considered as uncertanties zero\\nall float64\\n'"
      ]
     },
     "execution_count": 205,
     "metadata": {},
     "output_type": "execute_result"
    }
   ],
   "source": [
    "s_f(df, 'koi_depth') #Summary feature 'koi_depth'\n",
    "'''\n",
    "51 missing values (not equal to positive and negative uncertanties)\n",
    "need to add uncertanties and handle it as a range\n",
    "records with koi_depth values but not uncertanties can be considered as uncertanties zero\n",
    "all float64\n",
    "'''"
   ]
  },
  {
   "cell_type": "code",
   "execution_count": 206,
   "metadata": {},
   "outputs": [
    {
     "name": "stdout",
     "output_type": "stream",
     "text": [
      "There are 8043 non-zero values out of 8054 in 'koi_depth_err1'\n",
      "Number of unique values: 1339\n",
      "Unique Values: [ 171.    12.8   16.9 ...  575.  5102.    64.1]\n",
      "\n",
      "<class 'pandas.core.series.Series'>\n",
      "RangeIndex: 8054 entries, 0 to 8053\n",
      "Series name: koi_depth_err1\n",
      "Non-Null Count  Dtype  \n",
      "--------------  -----  \n",
      "7904 non-null   float64\n",
      "dtypes: float64(1)\n",
      "memory usage: 63.0 KB\n"
     ]
    },
    {
     "data": {
      "text/plain": [
       "'\\n142 missing values \\nneed to add this value to koi_depth feature\\nall float64\\n'"
      ]
     },
     "execution_count": 206,
     "metadata": {},
     "output_type": "execute_result"
    }
   ],
   "source": [
    "s_f(df, 'koi_depth_err1') #Summary feature 'koi_depth_err1'\n",
    "'''\n",
    "142 missing values \n",
    "need to add this value to koi_depth feature\n",
    "all float64\n",
    "'''"
   ]
  },
  {
   "cell_type": "code",
   "execution_count": 207,
   "metadata": {},
   "outputs": [
    {
     "name": "stdout",
     "output_type": "stream",
     "text": [
      "There are 8043 non-zero values out of 8054 in 'koi_depth_err2'\n",
      "Number of unique values: 1339\n",
      "Unique Values: [ -171.    -12.8   -16.9 ...  -575.  -5102.    -64.1]\n",
      "\n",
      "<class 'pandas.core.series.Series'>\n",
      "RangeIndex: 8054 entries, 0 to 8053\n",
      "Series name: koi_depth_err2\n",
      "Non-Null Count  Dtype  \n",
      "--------------  -----  \n",
      "7904 non-null   float64\n",
      "dtypes: float64(1)\n",
      "memory usage: 63.0 KB\n"
     ]
    },
    {
     "data": {
      "text/plain": [
       "'\\n142 missing values \\nneed to substract this value to koi_depth feature\\nall float64\\n'"
      ]
     },
     "execution_count": 207,
     "metadata": {},
     "output_type": "execute_result"
    }
   ],
   "source": [
    "s_f(df, 'koi_depth_err2') #Summary feature 'koi_depth_err2'\n",
    "'''\n",
    "142 missing values \n",
    "need to substract this value to koi_depth feature\n",
    "all float64\n",
    "'''"
   ]
  },
  {
   "cell_type": "code",
   "execution_count": 208,
   "metadata": {},
   "outputs": [
    {
     "name": "stdout",
     "output_type": "stream",
     "text": [
      "There are 8054 non-zero values out of 8054 in 'koi_prad'\n",
      "Number of unique values: 2831\n",
      "Unique Values: [14.6  33.46  2.75 ...  5.89 42.19  4.76]\n",
      "\n",
      "<class 'pandas.core.series.Series'>\n",
      "RangeIndex: 8054 entries, 0 to 8053\n",
      "Series name: koi_prad\n",
      "Non-Null Count  Dtype  \n",
      "--------------  -----  \n",
      "7995 non-null   float64\n",
      "dtypes: float64(1)\n",
      "memory usage: 63.0 KB\n"
     ]
    },
    {
     "data": {
      "text/plain": [
       "'\\n51 missing values (equal to positive and negative uncertanties)\\nneed to add uncertanties and handle it as a rnage\\nall float64\\n'"
      ]
     },
     "execution_count": 208,
     "metadata": {},
     "output_type": "execute_result"
    }
   ],
   "source": [
    "s_f(df, 'koi_prad') #Summary feature 'koi_prad'\n",
    "'''\n",
    "51 missing values (equal to positive and negative uncertanties)\n",
    "need to add uncertanties and handle it as a rnage\n",
    "all float64\n",
    "'''"
   ]
  },
  {
   "cell_type": "code",
   "execution_count": 209,
   "metadata": {},
   "outputs": [
    {
     "name": "stdout",
     "output_type": "stream",
     "text": [
      "There are 7957 non-zero values out of 8054 in 'koi_prad_err1'\n",
      "Number of unique values: 1704\n",
      "Unique Values: [ 3.92  8.5   0.88 ... 30.61 19.62 12.65]\n",
      "\n",
      "<class 'pandas.core.series.Series'>\n",
      "RangeIndex: 8054 entries, 0 to 8053\n",
      "Series name: koi_prad_err1\n",
      "Non-Null Count  Dtype  \n",
      "--------------  -----  \n",
      "7995 non-null   float64\n",
      "dtypes: float64(1)\n",
      "memory usage: 63.0 KB\n"
     ]
    },
    {
     "data": {
      "text/plain": [
       "'\\n51 missing values \\nneed to add this value to koi_prad feature\\nall float64\\n'"
      ]
     },
     "execution_count": 209,
     "metadata": {},
     "output_type": "execute_result"
    }
   ],
   "source": [
    "s_f(df, 'koi_prad_err1') #Summary feature 'koi_prad_err1'\n",
    "'''\n",
    "51 missing values \n",
    "need to add this value to koi_prad feature\n",
    "all float64\n",
    "'''"
   ]
  },
  {
   "cell_type": "code",
   "execution_count": 210,
   "metadata": {},
   "outputs": [
    {
     "name": "stdout",
     "output_type": "stream",
     "text": [
      "There are 7958 non-zero values out of 8054 in 'koi_prad_err2'\n",
      "Number of unique values: 1492\n",
      "Unique Values: [ -1.31  -2.83  -0.35 ... -65.95 -45.77  -8.43]\n",
      "\n",
      "<class 'pandas.core.series.Series'>\n",
      "RangeIndex: 8054 entries, 0 to 8053\n",
      "Series name: koi_prad_err2\n",
      "Non-Null Count  Dtype  \n",
      "--------------  -----  \n",
      "7995 non-null   float64\n",
      "dtypes: float64(1)\n",
      "memory usage: 63.0 KB\n"
     ]
    },
    {
     "data": {
      "text/plain": [
       "'\\n51 missing values \\nneed to substract this value to koi_prad feature\\nall float64\\n'"
      ]
     },
     "execution_count": 210,
     "metadata": {},
     "output_type": "execute_result"
    }
   ],
   "source": [
    "s_f(df, 'koi_prad_err2') #Summary feature 'koi_prad_err2'\n",
    "'''\n",
    "51 missing values \n",
    "need to substract this value to koi_prad feature\n",
    "all float64\n",
    "'''"
   ]
  },
  {
   "cell_type": "code",
   "execution_count": 211,
   "metadata": {},
   "outputs": [
    {
     "name": "stdout",
     "output_type": "stream",
     "text": [
      "There are 8054 non-zero values out of 8054 in 'koi_teq'\n",
      "Number of unique values: 2413\n",
      "Unique Values: [ 638. 1395. 1406. ... 1376. 2713. 2337.]\n",
      "\n",
      "<class 'pandas.core.series.Series'>\n",
      "RangeIndex: 8054 entries, 0 to 8053\n",
      "Series name: koi_teq\n",
      "Non-Null Count  Dtype  \n",
      "--------------  -----  \n",
      "7995 non-null   float64\n",
      "dtypes: float64(1)\n",
      "memory usage: 63.0 KB\n"
     ]
    },
    {
     "data": {
      "text/plain": [
       "'\\n51 missing values\\nall float64\\nREADY FOR EDA\\n'"
      ]
     },
     "execution_count": 211,
     "metadata": {},
     "output_type": "execute_result"
    }
   ],
   "source": [
    "s_f(df, 'koi_teq') #Summary feature 'koi_teq'\n",
    "'''\n",
    "51 missing values\n",
    "all float64\n",
    "READY FOR EDA\n",
    "'''"
   ]
  },
  {
   "cell_type": "code",
   "execution_count": 212,
   "metadata": {},
   "outputs": [
    {
     "name": "stdout",
     "output_type": "stream",
     "text": [
      "There are 8054 non-zero values out of 8054 in 'koi_insol'\n",
      "Number of unique values: 7202\n",
      "Unique Values: [ 39.3  891.96 926.16 ... 104.04 308.61 124.31]\n",
      "\n",
      "<class 'pandas.core.series.Series'>\n",
      "RangeIndex: 8054 entries, 0 to 8053\n",
      "Series name: koi_insol\n",
      "Non-Null Count  Dtype  \n",
      "--------------  -----  \n",
      "7995 non-null   float64\n",
      "dtypes: float64(1)\n",
      "memory usage: 63.0 KB\n"
     ]
    },
    {
     "data": {
      "text/plain": [
       "'\\n51 missing values (equal to positive and negative uncertanties)\\nneed to add uncertanties and handle it as a rnage\\nall float64\\n'"
      ]
     },
     "execution_count": 212,
     "metadata": {},
     "output_type": "execute_result"
    }
   ],
   "source": [
    "s_f(df, 'koi_insol') #Summary feature 'koi_insol'\n",
    "'''\n",
    "51 missing values (equal to positive and negative uncertanties)\n",
    "need to add uncertanties and handle it as a rnage\n",
    "all float64\n",
    "'''"
   ]
  },
  {
   "cell_type": "code",
   "execution_count": 213,
   "metadata": {},
   "outputs": [
    {
     "name": "stdout",
     "output_type": "stream",
     "text": [
      "There are 7957 non-zero values out of 8054 in 'koi_insol_err1'\n",
      "Number of unique values: 6589\n",
      "Unique Values: [ 31.04 668.95 874.33 ...  51.4  152.48  48.42]\n",
      "\n",
      "<class 'pandas.core.series.Series'>\n",
      "RangeIndex: 8054 entries, 0 to 8053\n",
      "Series name: koi_insol_err1\n",
      "Non-Null Count  Dtype  \n",
      "--------------  -----  \n",
      "7995 non-null   float64\n",
      "dtypes: float64(1)\n",
      "memory usage: 63.0 KB\n"
     ]
    },
    {
     "data": {
      "text/plain": [
       "'\\n51 missing values\\nneed to add this value to koi_insol feature\\nall float64\\n'"
      ]
     },
     "execution_count": 213,
     "metadata": {},
     "output_type": "execute_result"
    }
   ],
   "source": [
    "s_f(df, 'koi_insol_err1') #Summary feature 'koi_insol_err1'\n",
    "'''\n",
    "51 missing values\n",
    "need to add this value to koi_insol feature\n",
    "all float64\n",
    "'''"
   ]
  },
  {
   "cell_type": "code",
   "execution_count": 214,
   "metadata": {},
   "outputs": [
    {
     "name": "stdout",
     "output_type": "stream",
     "text": [
      "There are 7958 non-zero values out of 8054 in 'koi_insol_err2'\n",
      "Number of unique values: 6158\n",
      "Unique Values: [ -10.49 -230.35 -314.24 ...   -5.12  -34.01  -33.09]\n",
      "\n",
      "<class 'pandas.core.series.Series'>\n",
      "RangeIndex: 8054 entries, 0 to 8053\n",
      "Series name: koi_insol_err2\n",
      "Non-Null Count  Dtype  \n",
      "--------------  -----  \n",
      "7995 non-null   float64\n",
      "dtypes: float64(1)\n",
      "memory usage: 63.0 KB\n"
     ]
    },
    {
     "data": {
      "text/plain": [
       "'\\n51 missing values \\nneed to substract this value to koi_insol feature\\nall float64\\n'"
      ]
     },
     "execution_count": 214,
     "metadata": {},
     "output_type": "execute_result"
    }
   ],
   "source": [
    "s_f(df, 'koi_insol_err2') #Summary feature 'koi_insol_err2'\n",
    "'''\n",
    "51 missing values \n",
    "need to substract this value to koi_insol feature\n",
    "all float64\n",
    "'''"
   ]
  },
  {
   "cell_type": "code",
   "execution_count": 215,
   "metadata": {},
   "outputs": [
    {
     "name": "stdout",
     "output_type": "stream",
     "text": [
      "There are 8052 non-zero values out of 8054 in 'koi_model_snr'\n",
      "Number of unique values: 2694\n",
      "Unique Values: [  76.3  505.6   40.9 ... 1230.7  117.3  165.5]\n",
      "\n",
      "<class 'pandas.core.series.Series'>\n",
      "RangeIndex: 8054 entries, 0 to 8053\n",
      "Series name: koi_model_snr\n",
      "Non-Null Count  Dtype  \n",
      "--------------  -----  \n",
      "7995 non-null   float64\n",
      "dtypes: float64(1)\n",
      "memory usage: 63.0 KB\n"
     ]
    },
    {
     "data": {
      "text/plain": [
       "'\\n51 missing values\\nREADY FOR EDA\\n'"
      ]
     },
     "execution_count": 215,
     "metadata": {},
     "output_type": "execute_result"
    }
   ],
   "source": [
    "s_f(df, 'koi_model_snr') #Summary feature 'koi_model_snr'\n",
    "'''\n",
    "51 missing values\n",
    "READY FOR EDA\n",
    "'''"
   ]
  },
  {
   "cell_type": "code",
   "execution_count": 216,
   "metadata": {},
   "outputs": [
    {
     "name": "stdout",
     "output_type": "stream",
     "text": [
      "There are 8054 non-zero values out of 8054 in 'koi_tce_plnt_num'\n",
      "Number of unique values: 8\n",
      "Unique Values: [1 2 3 5 4 6 7 8]\n",
      "\n",
      "<class 'pandas.core.series.Series'>\n",
      "RangeIndex: 8054 entries, 0 to 8053\n",
      "Series name: koi_tce_plnt_num\n",
      "Non-Null Count  Dtype\n",
      "--------------  -----\n",
      "8054 non-null   int64\n",
      "dtypes: int64(1)\n",
      "memory usage: 63.0 KB\n"
     ]
    },
    {
     "data": {
      "text/plain": [
       "'\\nnot missing values\\nvalues range from 1 to 8\\nnot entirely clear what this feature means\\n'"
      ]
     },
     "execution_count": 216,
     "metadata": {},
     "output_type": "execute_result"
    }
   ],
   "source": [
    "s_f(df, 'koi_tce_plnt_num') #Summary feature 'koi_tce_plnt_num'\n",
    "'''\n",
    "not missing values\n",
    "values range from 1 to 8\n",
    "not entirely clear what this feature means\n",
    "'''"
   ]
  },
  {
   "cell_type": "code",
   "execution_count": 217,
   "metadata": {},
   "outputs": [
    {
     "name": "stdout",
     "output_type": "stream",
     "text": [
      "There are 8054 non-zero values out of 8054 in 'koi_tce_delivname'\n",
      "Number of unique values: 1\n",
      "Unique Values: ['q1_q17_dr25_tce']\n",
      "\n",
      "<class 'pandas.core.series.Series'>\n",
      "RangeIndex: 8054 entries, 0 to 8053\n",
      "Series name: koi_tce_delivname\n",
      "Non-Null Count  Dtype \n",
      "--------------  ----- \n",
      "8054 non-null   object\n",
      "dtypes: object(1)\n",
      "memory usage: 63.0+ KB\n"
     ]
    },
    {
     "data": {
      "text/plain": [
       "'\\nunique value feature, I can drop it\\n'"
      ]
     },
     "execution_count": 217,
     "metadata": {},
     "output_type": "execute_result"
    }
   ],
   "source": [
    "s_f(df, 'koi_tce_delivname') #Summary feature 'koi_tce_delivname'\n",
    "'''\n",
    "unique value feature, I can drop it\n",
    "'''"
   ]
  },
  {
   "cell_type": "code",
   "execution_count": 218,
   "metadata": {},
   "outputs": [
    {
     "name": "stdout",
     "output_type": "stream",
     "text": [
      "There are 8054 non-zero values out of 8054 in 'koi_steff'\n",
      "Number of unique values: 2288\n",
      "Unique Values: [5853. 5805. 6031. ... 5867. 6561. 6663.]\n",
      "\n",
      "<class 'pandas.core.series.Series'>\n",
      "RangeIndex: 8054 entries, 0 to 8053\n",
      "Series name: koi_steff\n",
      "Non-Null Count  Dtype  \n",
      "--------------  -----  \n",
      "7995 non-null   float64\n",
      "dtypes: float64(1)\n",
      "memory usage: 63.0 KB\n"
     ]
    },
    {
     "data": {
      "text/plain": [
       "'\\n51 missing values\\nless than the both negative and positive uncertanties\\nneed to add uncertanties to this value and handle the range\\nwe can assume 0 negative and positive uncertanties where koi_steff values are existent\\nall float64\\n'"
      ]
     },
     "execution_count": 218,
     "metadata": {},
     "output_type": "execute_result"
    }
   ],
   "source": [
    "s_f(df, 'koi_steff') #Summary feature 'koi_steff'\n",
    "'''\n",
    "51 missing values\n",
    "less than the both negative and positive uncertanties\n",
    "need to add uncertanties to this value and handle the range\n",
    "we can assume 0 negative and positive uncertanties where koi_steff values are existent\n",
    "all float64\n",
    "'''"
   ]
  },
  {
   "cell_type": "code",
   "execution_count": 219,
   "metadata": {},
   "outputs": [
    {
     "name": "stdout",
     "output_type": "stream",
     "text": [
      "There are 8045 non-zero values out of 8054 in 'koi_steff_err1'\n",
      "Number of unique values: 258\n",
      "Unique Values: [158. 157. 169. 189. 104. 114.  89.  99.  71. 176. 560. 118. 146. 117.\n",
      "  90.  44. 304. 171. 136. 164. 167. 120. 159. 216. 187. 194.  80. 184.\n",
      " 115.  98. 168. 172. 105. 153.  83.  54. 183. 133.  84.  82.  74. 113.\n",
      "  81.  88. 186. 191. 190. 185. 179. 204.  76. 139. 193. 100. 161.  75.\n",
      " 131. 156. 155. 149.  85.  79. 152.  77. 130. 154. 151. 108. 197.  50.\n",
      " 267.  78. 215. 170. 201. 174. 182.  nan 112. 119.  51. 111. 162.  60.\n",
      " 121. 166. 109. 116.  72. 123. 180. 173. 128. 200. 129. 226. 106. 145.\n",
      " 202.  52. 175. 177. 125. 676. 110. 206. 219. 280. 150. 101.  65.  73.\n",
      " 165. 181. 163.  87.  57. 228. 148.  40.  68. 328. 160. 103.  58. 107.\n",
      " 196.  64. 140.  59. 481. 135. 195. 291.  92.  61. 242. 240.  93. 141.\n",
      "  70. 102. 143. 147.  49. 205.  56. 126. 272. 224.  94. 138. 192. 142.\n",
      "  97.   0.  69. 198. 122. 221.  86. 235.  62. 134. 203. 199. 209.  67.\n",
      " 137. 144. 265. 178. 124. 447. 217. 302.  95. 210. 335. 132. 225. 268.\n",
      " 208.  96. 236. 218. 127. 211.  91. 214.  28. 237. 301. 207. 222. 411.\n",
      " 255.  66. 212. 188. 251. 286. 230. 227. 213. 233. 289.  53. 229. 220.\n",
      " 470. 262. 284. 263. 241. 299.  45. 290.  39. 325. 238. 266.  48.  55.\n",
      " 334. 331. 433. 244. 587. 313. 250. 275. 246. 247. 223. 231.  47.  38.\n",
      " 506. 232.  42.  63. 454.  43. 276. 239. 298.  46. 249.  41. 297. 595.\n",
      "  37. 330. 309. 256. 296. 462. 434.]\n",
      "\n",
      "<class 'pandas.core.series.Series'>\n",
      "RangeIndex: 8054 entries, 0 to 8053\n",
      "Series name: koi_steff_err1\n",
      "Non-Null Count  Dtype  \n",
      "--------------  -----  \n",
      "7907 non-null   float64\n",
      "dtypes: float64(1)\n",
      "memory usage: 63.0 KB\n"
     ]
    },
    {
     "data": {
      "text/plain": [
       "'\\n139 missing values less than the negative uncertanty\\nneed to add this value to koi_steff feature\\nall float64\\n'"
      ]
     },
     "execution_count": 219,
     "metadata": {},
     "output_type": "execute_result"
    }
   ],
   "source": [
    "s_f(df, 'koi_steff_err1') #Summary feature 'koi_steff_err1'\n",
    "'''\n",
    "139 missing values less than the negative uncertanty\n",
    "need to add this value to koi_steff feature\n",
    "all float64\n",
    "'''"
   ]
  },
  {
   "cell_type": "code",
   "execution_count": 220,
   "metadata": {},
   "outputs": [
    {
     "name": "stdout",
     "output_type": "stream",
     "text": [
      "There are 8032 non-zero values out of 8054 in 'koi_steff_err2'\n",
      "Number of unique values: 359\n",
      "Unique Values: [ -176.  -174.  -211.  -232.  -115.  -103.   -78.    nan   -89.  -193.\n",
      "  -301.  -130.  -190.  -117.   -90.   -24.  -457.  -206.  -151.  -200.\n",
      "  -230.  -120.  -195.  -324.  -267.   -80.  -205.  -104.  -152.   -71.\n",
      "  -155.  -108.  -191.  -220.   -91.   -74.  -183.  -146.   -73.  -210.\n",
      "   -76.  -101.   -81.   -64.  -186.  -212.  -185.  -162.  -168.   -84.\n",
      "  -125.  -164.  -214.  -100.  -179.  -136.  -173.  -172.  -149.   -77.\n",
      "   -79.   -83.     0.  -144.   -85.  -171.  -158.   -75.  -145.  -241.\n",
      "  -121.  -326.   -69.  -247.  -259.  -189.  -204.  -182.  -217.  -138.\n",
      "  -157.  -201.  -111.   -72.  -180.   -67.  -133.  -240.  -209.  -228.\n",
      "  -160.   -98.  -110.  -116.  -124.   -82.  -153.  -123.  -239.  -105.\n",
      "  -142.  -166.  -343.   -60.  -119.  -340.  -106.  -194.  -202.   -58.\n",
      "  -159.  -140.  -169.  -177.  -416.  -135.  -335.  -175.  -406.  -229.\n",
      "  -147.   -66.   -94.  -163.   -86.  -148.  -218.  -113.  -109.  -161.\n",
      "  -143.  -154.  -263.  -227.   -62.  -304.  -141.  -246.  -192.  -167.\n",
      "  -184.  -237.  -225.   -97.  -264.  -265.  -712.  -165.  -128.  -236.\n",
      "   -65.  -107.  -313.  -156.  -197.  -181.  -310.   -87.  -207.  -261.\n",
      "  -122.  -291.   -92.  -188.  -443.  -134.  -412.  -129.  -150.  -178.\n",
      "  -102.   -88.  -187.  -248.  -223.  -208.  -199.  -118.   -96.  -198.\n",
      "   -61.  -467.  -336.  -224.  -226.  -131.  -213.   -57.  -219.  -258.\n",
      "  -243.  -242.  -347.  -233.  -203.  -132.  -137.  -253.  -139.  -249.\n",
      "  -314.  -170.  -112.   -55.  -542.   -70.  -279.   -47.  -126.  -251.\n",
      "  -221.  -216.  -114.  -254.   -54.   -93.  -215.   -95.  -404.  -196.\n",
      "  -222.  -250.  -281.  -503.  -234.  -325.   -68.  -300. -1005.  -235.\n",
      "  -260.  -355.  -268.  -127.  -231.  -322.  -295.   -46.  -316.  -277.\n",
      "  -452.  -255.  -337.  -822.  -278.  -438.  -305.  -376.  -283.  -245.\n",
      "  -466.  -464.  -430.  -318.  -330.  -366.  -411.  -257.  -434.  -262.\n",
      "  -284.   -52.   -59.  -272.  -244.  -342.   -51.  -451.  -285.   -50.\n",
      "  -329.  -353. -1044.  -372.  -350.  -400.  -371.  -307.  -331.   -63.\n",
      "  -941.  -312.  -238.  -450.  -368.  -426.  -287.  -327.   -37.  -379.\n",
      "  -380.  -252.   -29.  -407.   -44.   -53.  -758.   -42.  -408.  -319.\n",
      "  -495.  -374.  -311.  -358.  -478. -1733.  -299.  -334.   -56.  -428.\n",
      "  -378.  -286. -1762.  -469.  -338.  -365.  -275.  -413.  -270.  -345.\n",
      "  -458.  -297. -1519.   -33.  -302.   -40.  -410.   -32.  -298.  -844.\n",
      "  -393.  -288.  -271.  -422.  -414.  -415.  -256.  -357.  -364.  -306.\n",
      "  -427.  -429.  -274.   -25.  -296.   -41.  -727.  -575.  -332.  -290.\n",
      "  -385.  -396.   -43.  -403.  -530.  -309.  -370.  -925.  -333.  -282.]\n",
      "\n",
      "<class 'pandas.core.series.Series'>\n",
      "RangeIndex: 8054 entries, 0 to 8053\n",
      "Series name: koi_steff_err2\n",
      "Non-Null Count  Dtype  \n",
      "--------------  -----  \n",
      "7892 non-null   float64\n",
      "dtypes: float64(1)\n",
      "memory usage: 63.0 KB\n"
     ]
    },
    {
     "data": {
      "text/plain": [
       "'\\n154 missing values\\nmore than positive uncertanty, we can ssume a 0 negative uncertanty when a positive is existent\\nneed to substract this value to koi_steff feature\\nall float64\\n'"
      ]
     },
     "execution_count": 220,
     "metadata": {},
     "output_type": "execute_result"
    }
   ],
   "source": [
    "s_f(df, 'koi_steff_err2') #Summary feature 'koi_steff_err2'\n",
    "'''\n",
    "154 missing values\n",
    "more than positive uncertanty, we can ssume a 0 negative uncertanty when a positive is existent\n",
    "need to substract this value to koi_steff feature\n",
    "all float64\n",
    "'''"
   ]
  },
  {
   "cell_type": "code",
   "execution_count": 221,
   "metadata": {},
   "outputs": [
    {
     "name": "stdout",
     "output_type": "stream",
     "text": [
      "There are 8054 non-zero values out of 8054 in 'koi_slogg'\n",
      "Number of unique values: 1438\n",
      "Unique Values: [4.544 4.564 4.438 ... 4.164 3.676 4.022]\n",
      "\n",
      "<class 'pandas.core.series.Series'>\n",
      "RangeIndex: 8054 entries, 0 to 8053\n",
      "Series name: koi_slogg\n",
      "Non-Null Count  Dtype  \n",
      "--------------  -----  \n",
      "7995 non-null   float64\n",
      "dtypes: float64(1)\n",
      "memory usage: 63.0 KB\n"
     ]
    },
    {
     "data": {
      "text/plain": [
       "'\\n139 missing values\\nneed to add its uncertanties and handle the value in ranges\\nall float64\\n'"
      ]
     },
     "execution_count": 221,
     "metadata": {},
     "output_type": "execute_result"
    }
   ],
   "source": [
    "s_f(df, 'koi_slogg') #Summary feature 'koi_slogg'\n",
    "'''\n",
    "139 missing values\n",
    "need to add its uncertanties and handle the value in ranges\n",
    "all float64\n",
    "'''"
   ]
  },
  {
   "cell_type": "code",
   "execution_count": 222,
   "metadata": {},
   "outputs": [
    {
     "name": "stdout",
     "output_type": "stream",
     "text": [
      "There are 8045 non-zero values out of 8054 in 'koi_slogg_err1'\n",
      "Number of unique values: 464\n",
      "Unique Values: [0.044 0.053 0.07  0.054 0.132 0.162 0.04  0.011 0.055 0.136 0.104 0.045\n",
      " 0.042 0.196 0.013 0.22  0.084 0.707 0.052 0.352 0.195 0.13  0.392 0.058\n",
      " 0.127 0.038 0.168 0.018 0.099 0.231 0.185 0.21  0.156 0.056 0.022 0.008\n",
      " 0.512 0.05  0.174 0.09  0.217 0.218 0.048 0.03  0.105 0.091 0.028 0.18\n",
      " 0.021 0.046 0.027 0.035 0.033 0.098 0.075 0.083 0.092 0.11  0.063 0.077\n",
      " 0.144 0.639 0.272 0.137 0.74    nan 0.246 0.1   0.227 0.06  0.036 0.065\n",
      " 0.115 0.264 0.125 0.149 0.126 0.012 0.203 0.101 0.024 0.029 0.085 0.182\n",
      " 0.039 0.072 0.088 0.02  0.153 0.01  0.252 0.112 0.225 0.258 0.145 0.066\n",
      " 0.84  0.376 0.032 0.015 0.135 0.08  0.078 0.121 0.034 0.241 0.062 0.124\n",
      " 0.094 0.076 0.186 0.016 0.116 0.026 0.051 0.014 0.282 0.52  0.087 0.025\n",
      " 0.315 0.138 0.037 0.832 0.067 0.117 0.3   0.238 0.378 0.093 0.023 0.031\n",
      " 0.443 0.293 0.049 0.175 0.12  0.917 0.343 0.064 0.188 0.198 0.128 0.071\n",
      " 0.323 0.266 0.14  0.285 0.256 0.148 0.259 0.081 0.171 0.102 0.432 0.517\n",
      " 0.224 0.248 0.074 0.019 0.    0.221 0.19  0.155 0.059 0.574 0.176 0.017\n",
      " 0.42  0.336 0.15  0.304 0.095 0.448 0.458 0.096 0.273 0.791 0.143 0.322\n",
      " 0.108 0.569 0.287 0.998 0.103 0.194 0.158 0.165 0.202 0.082 0.157 0.255\n",
      " 0.28  0.312 0.114 0.057 0.068 0.007 0.204 0.16  0.041 0.069 0.192 0.413\n",
      " 0.292 0.254 0.17  0.111 0.693 0.602 0.616 0.131 0.328 0.276 0.808 0.147\n",
      " 0.27  0.277 0.222 0.232 0.294 0.57  0.24  0.286 0.483 0.061 0.245 0.201\n",
      " 0.308 0.704 0.631 0.367 0.504 0.337 0.228 0.756 0.36  0.233 0.154 0.161\n",
      " 0.043 0.848 0.56  0.167 0.344 0.39  0.535 0.073 0.009 0.345 0.23  0.184\n",
      " 0.208 0.405 0.368 0.193 0.357 0.682 0.637 0.773 0.189 0.45  0.234 0.33\n",
      " 0.904 0.697 1.192 0.263 0.372 0.644 0.253 0.159 0.888 0.818 0.187 0.408\n",
      " 0.214 0.247 0.864 0.242 0.351 0.772 0.237 0.671 0.205 0.75  0.139 0.598\n",
      " 0.35  0.568 0.32  0.467 0.765 0.262 0.591 0.528 1.24  0.496 0.133 0.428\n",
      " 0.402 0.434 0.209 0.353 0.329 0.26  0.975 0.7   0.553 0.968 0.409 0.319\n",
      " 1.472 0.923 0.164 0.301 0.442 0.777 0.416 0.006 0.398 0.307 0.456 0.728\n",
      " 0.306 0.623 0.34  0.87  0.578 0.493 0.338 0.9   0.585 0.665 0.66  0.299\n",
      " 0.425 0.2   0.215 0.472 0.805 0.58  0.495 0.511 0.447 0.406 0.536 0.513\n",
      " 0.519 0.749 0.216 0.679 0.298 0.113 0.375 0.435 0.385 0.364 0.99  0.816\n",
      " 0.658 0.465 0.44  0.878 0.667 0.595 0.51  0.544 0.236 0.399 0.396 0.672\n",
      " 0.863 0.567 0.624 0.526 0.462 0.936 0.527 0.451 0.884 0.712 0.584 0.296\n",
      " 0.944 0.664 0.331 0.96  0.152 0.893 0.412 0.522 0.275 0.49  1.232 0.651\n",
      " 0.63  0.784 0.572 0.325 0.742 0.382 0.617 0.552 0.477 0.69  0.109 0.609\n",
      " 0.696 0.581 0.78  0.604 0.608 0.289 0.366 0.518 0.501 0.397 0.086 0.592\n",
      " 0.476 0.54  0.391 0.459 0.656 0.735 0.824 0.278 0.72  0.612 0.705 0.163\n",
      " 0.77  0.097 0.455 0.488 0.181 0.605 0.807 0.872 0.418 0.318 0.468 0.907\n",
      " 0.464 0.384 0.912 0.169 0.586 0.819 0.856 0.267 0.629 0.817 0.752 0.424\n",
      " 0.427 1.005 0.532 0.31  1.057 0.727 0.653 0.48  0.892]\n",
      "\n",
      "<class 'pandas.core.series.Series'>\n",
      "RangeIndex: 8054 entries, 0 to 8053\n",
      "Series name: koi_slogg_err1\n",
      "Non-Null Count  Dtype  \n",
      "--------------  -----  \n",
      "7907 non-null   float64\n",
      "dtypes: float64(1)\n",
      "memory usage: 63.0 KB\n"
     ]
    },
    {
     "data": {
      "text/plain": [
       "'\\n139 missing values\\nneed to substract this value to koi_slogg range\\nall float64\\n'"
      ]
     },
     "execution_count": 222,
     "metadata": {},
     "output_type": "execute_result"
    }
   ],
   "source": [
    "s_f(df, 'koi_slogg_err1') #Summary feature 'koi_slogg_err1'\n",
    "'''\n",
    "139 missing values\n",
    "need to substract this value to koi_slogg range\n",
    "all float64\n",
    "'''"
   ]
  },
  {
   "cell_type": "code",
   "execution_count": 223,
   "metadata": {},
   "outputs": [
    {
     "name": "stdout",
     "output_type": "stream",
     "text": [
      "There are 8045 non-zero values out of 8054 in 'koi_slogg_err2'\n",
      "Number of unique values: 300\n",
      "Unique Values: [-0.176 -0.168 -0.21  -0.229 -0.108 -0.036 -0.06  -0.055 -0.187 -0.085\n",
      " -0.04  -0.084 -0.043 -0.098 -0.22  -0.196 -0.303 -0.208 -0.088 -0.105\n",
      " -0.159 -0.232 -0.104 -0.212 -0.102 -0.121 -0.099 -0.185 -0.117 -0.216\n",
      " -0.224 -0.025 -0.009 -0.128 -0.032 -0.065 -0.2   -0.116 -0.093 -0.087\n",
      " -0.192 -0.09  -0.115 -0.039 -0.027 -0.171 -0.195 -0.053 -0.052 -0.021\n",
      " -0.063 -0.045 -0.02  -0.028 -0.15  -0.11  -0.016 -0.184 -0.152 -0.071\n",
      " -0.048 -0.18  -0.173 -0.125 -0.131 -0.03  -0.188 -0.056 -0.165    nan\n",
      " -0.164 -0.1   -0.033 -0.075 -0.066 -0.008 -0.112 -0.182 -0.138 -0.064\n",
      " -0.12  -0.072 -0.024 -0.162 -0.114 -0.022 -0.035 -0.169 -0.144 -0.189\n",
      " -0.203 -0.137 -0.07  -0.211 -0.145 -0.143 -0.015 -0.094 -0.16  -0.217\n",
      " -0.044 -0.136 -0.13  -0.201 -0.175 -0.049 -0.122 -0.077 -0.198 -0.097\n",
      " -0.156 -0.135 -0.103 -0.041 -0.161 -0.081 -0.213 -0.221 -0.08  -0.038\n",
      " -0.031 -0.095 -0.202 -0.018 -0.179 -0.083 -0.054 -0.166 -0.148 -0.186\n",
      " -0.17  -0.096 -0.327 -0.204 -0.147 -0.101 -0.132 -0.017 -0.26  -0.113\n",
      " -0.111 -0.19  -0.051 -0.163 -0.578 -0.234 -0.181 -0.05  -0.123 -0.078\n",
      " -0.154 -0.748  0.    -0.119 -0.127 -0.076 -0.246 -0.091 -0.416 -0.014\n",
      " -0.14  -0.012 -0.082 -0.124 -0.042 -0.238 -0.339 -0.023 -0.059 -0.333\n",
      " -0.126 -0.237 -0.193 -0.3   -0.092 -0.151 -0.133 -0.178 -0.158 -0.142\n",
      " -0.046 -0.177 -0.118 -0.155 -0.297 -0.258 -0.353 -0.209 -0.264 -0.058\n",
      " -0.273 -0.172 -0.061 -0.38  -0.129 -0.241 -0.225 -0.34  -0.378 -0.275\n",
      " -0.011 -0.57  -0.069 -0.013 -0.24  -0.153 -0.086 -0.214 -0.218 -0.56\n",
      " -0.23  -0.057 -0.174 -0.01  -0.367 -0.067 -0.343 -0.068 -0.079 -0.226\n",
      " -0.298 -0.248 -0.207 -0.222 -0.257 -0.205 -0.36  -0.25  -0.322 -0.32\n",
      " -0.231 -0.318 -0.31  -0.247 -0.029 -0.268 -0.141 -0.325 -0.242 -0.368\n",
      " -0.308 -0.338 -0.283 -0.312 -0.29  -0.287 -0.259 -0.285 -0.157 -0.585\n",
      " -0.345 -0.073 -0.219 -0.047 -0.245 -0.288 -0.134 -0.321 -0.167 -0.291\n",
      " -0.27  -0.252 -0.215 -0.33  -0.282 -0.293 -0.255 -0.336 -0.106 -0.146\n",
      " -0.228 -0.236 -0.777 -0.357 -0.149 -0.074 -0.279 -0.007 -0.329 -0.332\n",
      " -0.194 -0.315 -0.249 -0.261 -0.062 -0.197 -0.267 -0.235 -0.326 -0.266\n",
      " -0.295 -0.342 -0.302 -0.351 -0.397 -0.413 -0.272 -0.528 -0.183 -0.335\n",
      " -0.352]\n",
      "\n",
      "<class 'pandas.core.series.Series'>\n",
      "RangeIndex: 8054 entries, 0 to 8053\n",
      "Series name: koi_slogg_err2\n",
      "Non-Null Count  Dtype  \n",
      "--------------  -----  \n",
      "7907 non-null   float64\n",
      "dtypes: float64(1)\n",
      "memory usage: 63.0 KB\n"
     ]
    },
    {
     "data": {
      "text/plain": [
       "'\\n139 missing values\\nneed to add this value to koi_slogg range\\nall float64\\n'"
      ]
     },
     "execution_count": 223,
     "metadata": {},
     "output_type": "execute_result"
    }
   ],
   "source": [
    "s_f(df, 'koi_slogg_err2') #Summary feature 'koi_slogg_err2'\n",
    "'''\n",
    "139 missing values\n",
    "need to add this value to koi_slogg range\n",
    "all float64\n",
    "'''"
   ]
  },
  {
   "cell_type": "code",
   "execution_count": 224,
   "metadata": {},
   "outputs": [
    {
     "name": "stdout",
     "output_type": "stream",
     "text": [
      "There are 8054 non-zero values out of 8054 in 'koi_srad'\n",
      "Number of unique values: 2075\n",
      "Unique Values: [0.868 0.791 1.046 ... 2.872 1.338 1.694]\n",
      "\n",
      "<class 'pandas.core.series.Series'>\n",
      "RangeIndex: 8054 entries, 0 to 8053\n",
      "Series name: koi_srad\n",
      "Non-Null Count  Dtype  \n",
      "--------------  -----  \n",
      "7995 non-null   float64\n",
      "dtypes: float64(1)\n",
      "memory usage: 63.0 KB\n"
     ]
    },
    {
     "data": {
      "text/plain": [
       "'\\n51 missing values\\nneed to add this value to koi_srad to put it in a range and handle the range\\nall float64\\n'"
      ]
     },
     "execution_count": 224,
     "metadata": {},
     "output_type": "execute_result"
    }
   ],
   "source": [
    "s_f(df, 'koi_srad') #Summary feature 'koi_srad'\n",
    "'''\n",
    "51 missing values\n",
    "need to add this value to koi_srad to put it in a range and handle the range\n",
    "all float64\n",
    "'''"
   ]
  },
  {
   "cell_type": "code",
   "execution_count": 225,
   "metadata": {},
   "outputs": [
    {
     "name": "stdout",
     "output_type": "stream",
     "text": [
      "There are 8046 non-zero values out of 8054 in 'koi_srad_err1'\n",
      "Number of unique values: 937\n",
      "Unique Values: [2.3300e-01 2.0100e-01 3.3400e-01 3.1500e-01 1.5700e-01 2.4200e-01\n",
      " 1.2500e-01 5.4000e-02 4.5000e-02 3.3300e-01 1.0700e-01 3.6000e-02\n",
      " 2.0800e-01 2.8100e-01 4.3000e-02 3.9000e-02 8.1400e-01 3.0400e-01\n",
      " 1.0350e+00 2.7400e-01 3.6200e-01 2.2600e-01 2.9400e-01 5.0500e-01\n",
      " 4.1500e-01 5.1300e-01 1.4100e-01 3.0100e-01 2.3200e-01 9.3000e-02\n",
      " 1.0200e-01 1.9900e-01 2.8300e-01 1.7800e-01 2.6400e-01 2.4700e-01\n",
      " 3.5300e-01 3.6300e-01 2.7000e-02 2.0500e-01 4.5300e-01 3.8000e-02\n",
      " 7.2000e-02 2.9700e-01 1.8200e-01 3.0000e-01 4.4000e-02 1.6300e-01\n",
      " 2.1100e-01 3.2300e-01 2.4900e-01 2.4600e-01 3.1600e-01 1.0400e-01\n",
      " 1.7300e-01 1.3000e-01 1.5100e-01 4.9000e-02 5.0000e-02 1.9800e-01\n",
      " 3.5700e-01 3.5000e-01 4.6000e-02 2.6900e-01 6.7000e-02 3.0000e-02\n",
      " 7.5000e-02 2.4400e-01 2.2400e-01 5.7000e-02 3.2000e-02 3.3000e-02\n",
      " 9.1000e-02 1.8100e-01 2.3000e-02 3.3000e-01 2.2700e-01 7.1000e-02\n",
      " 1.8600e-01 8.8000e-02 1.8690e+00 7.8800e-01 1.1200e-01 4.4300e-01\n",
      " 3.4900e-01 2.4000e-01 8.0900e-01 2.6000e-01 7.7000e-02 3.8800e-01\n",
      " 8.1000e-02        nan 3.7800e-01 1.3300e-01 2.0200e-01 2.4100e-01\n",
      " 3.9100e-01 8.6000e-02 1.9600e-01 3.4100e-01 2.1500e-01 2.7200e-01\n",
      " 1.9700e-01 2.3800e-01 2.5500e-01 3.3500e-01 2.6700e-01 1.6600e-01\n",
      " 2.1300e-01 1.1700e-01 8.3000e-02 5.2000e-02 2.3600e-01 1.4200e-01\n",
      " 1.6400e-01 2.6100e-01 2.0400e-01 9.9000e-02 1.8800e-01 1.4300e-01\n",
      " 2.5200e-01 7.4000e-02 3.2200e-01 2.8000e-02 3.0800e-01 5.6000e-02\n",
      " 6.2000e-02 2.2800e-01 1.5400e-01 3.3600e-01 1.6900e-01 3.5800e-01\n",
      " 8.0000e-02 8.9000e-02 3.2500e-01 1.1800e-01 5.6500e-01 4.9780e+00\n",
      " 3.0500e-01 3.0700e-01 2.0714e+01 4.5400e-01 7.0000e-02 2.8700e-01\n",
      " 2.6500e-01 9.3900e-01 2.1000e-02 1.9100e-01 1.1000e-01 4.2600e-01\n",
      " 1.2700e-01 2.0700e-01 1.4800e-01 3.7500e-01 1.4600e-01 2.9100e-01\n",
      " 2.0600e-01 1.0600e-01 2.8000e-01 1.0900e-01 5.9000e-02 5.3000e-02\n",
      " 5.4500e-01 1.7900e-01 1.0100e-01 1.9400e-01 4.7000e-02 4.1100e-01\n",
      " 1.3800e-01 2.9800e-01 6.5000e-02 2.1700e-01 6.6000e-02 1.4000e-01\n",
      " 3.3100e-01 2.6600e-01 2.1000e-01 5.5000e-02 2.4800e-01 1.2000e-01\n",
      " 2.1400e-01 1.6200e-01 2.8500e-01 1.1900e-01 1.9000e-01 1.1600e-01\n",
      " 3.7000e-02 1.3600e-01 3.0300e-01 3.3900e-01 1.2400e-01 1.1100e-01\n",
      " 2.3400e-01 5.1000e-02 3.6800e-01 3.6400e-01 4.9400e-01 3.2600e-01\n",
      " 5.0700e-01 9.5000e-02 1.6500e-01 2.9600e-01 1.5300e-01 3.8100e-01\n",
      " 1.8700e-01 1.5200e-01 2.6200e-01 7.3000e-02 1.6100e-01 2.8200e-01\n",
      " 1.1500e-01 2.7700e-01 3.3200e-01 3.1200e-01 3.1800e-01 8.2000e-02\n",
      " 2.0900e-01 4.0000e-02 1.2900e-01 3.1000e-02 3.5000e-02 1.0200e+00\n",
      " 9.0000e-02 3.4500e-01 6.4800e-01 4.2400e-01 6.8000e-02 1.0300e-01\n",
      " 1.1300e-01 2.7300e-01 3.2400e-01 1.2200e-01 2.2000e-02 2.5510e+00\n",
      " 1.5000e-01 2.9200e-01 2.6800e-01 4.2000e-01 2.7900e-01 4.8000e-02\n",
      " 5.8600e-01 3.0600e-01 1.4900e-01 2.6300e-01 3.2900e-01 2.4740e+00\n",
      " 2.3000e-01 3.1900e-01 6.3000e-02 2.9000e-02 5.8000e-02 1.7400e-01\n",
      " 1.5600e-01 7.9000e-02 2.9000e-01 1.4700e-01 2.5900e-01 4.8800e-01\n",
      " 2.2900e-01 4.6000e-01 1.0000e-01 1.6800e-01 3.0900e-01 1.5800e-01\n",
      " 2.7000e-01 1.2100e-01 1.8400e-01 1.1400e-01 2.2100e-01 1.2720e+00\n",
      " 2.1800e-01 3.1400e-01 2.9900e-01 2.5100e-01 4.4100e-01 3.1670e+00\n",
      " 2.4500e-01 9.7000e-02 6.9000e-02 2.6000e-02 8.9500e-01 4.7600e-01\n",
      " 4.3900e-01 5.9500e-01 2.5000e-02 3.4000e-02 9.2000e-02 1.8300e-01\n",
      " 2.7600e-01 4.6300e-01 2.3700e-01 2.2200e-01 4.4900e-01 4.2000e-02\n",
      " 1.0800e-01 2.1200e-01 2.7800e-01 3.8600e-01 4.1000e-01 6.4000e-02\n",
      " 5.3100e-01 2.0300e-01 1.8500e-01 3.8300e-01 2.5400e-01 3.2000e-01\n",
      " 3.9500e-01 3.6100e-01 8.7000e-02 7.0100e-01 2.5000e-01 1.6000e-01\n",
      " 1.5900e-01 1.9500e-01 2.8900e-01 1.0190e+00 1.8900e-01 2.7100e-01\n",
      " 8.0300e-01 2.3500e-01 8.1700e-01 3.0200e-01 2.2500e-01 4.5100e-01\n",
      " 1.2600e-01 2.1600e-01 5.4700e-01 7.8000e-02 2.9500e-01 3.2100e-01\n",
      " 1.0500e-01 2.9300e-01 0.0000e+00 3.7100e-01 3.1300e-01 5.9800e-01\n",
      " 4.4700e-01 2.8600e-01 7.7900e-01 9.8000e-02 8.4000e-02 2.3900e-01\n",
      " 2.2000e-01 4.8100e-01 2.5300e-01 4.6100e-01 1.2800e-01 5.0100e-01\n",
      " 3.5200e-01 3.9900e-01 3.3800e-01 3.4000e-01 2.5600e-01 3.8000e-01\n",
      " 3.4700e-01 3.5100e-01 1.9300e-01 3.2700e-01 2.8800e-01 9.6000e-02\n",
      " 1.8000e-01 1.7600e-01 3.8400e-01 4.7900e-01 1.5900e+00 1.9000e-02\n",
      " 4.5900e-01 3.9000e-01 4.0000e-01 4.5000e-01 5.2000e-01 1.1430e+00\n",
      " 6.1300e-01 3.3700e-01 2.4300e-01 7.6000e-02 2.5700e-01 1.2300e-01\n",
      " 2.3100e-01 6.1000e-01 1.3770e+00 2.6930e+00 3.4600e-01 3.8900e-01\n",
      " 1.7500e-01 4.0200e-01 1.3700e-01 4.6800e-01 3.2110e+00 3.7700e-01\n",
      " 4.1000e-02 5.3200e-01 3.1700e-01 1.3900e-01 6.1000e-02 2.2300e-01\n",
      " 4.2700e-01 1.3200e-01 5.0000e-01 3.4200e-01 9.3500e-01 1.7000e-01\n",
      " 5.6600e-01 3.7000e-01 3.7600e-01 5.5900e-01 4.2100e-01 6.0000e-02\n",
      " 9.7100e-01 8.3700e-01 1.0670e+00 1.3500e-01 8.4100e-01 4.4000e-01\n",
      " 5.6400e-01 3.9800e-01 2.8400e-01 6.2500e-01 4.2200e-01 5.2300e-01\n",
      " 2.0320e+01 1.0330e+00 3.4800e-01 7.1850e+00 3.4300e-01 1.3230e+00\n",
      " 4.1600e-01 9.4000e-02 5.2200e-01 2.7500e-01 6.0900e-01 1.0820e+00\n",
      " 4.0400e-01 1.5500e-01 1.3270e+00 1.3100e-01 9.0900e-01 4.1700e-01\n",
      " 4.7300e-01 1.0180e+00 3.4400e-01 2.5800e-01 1.4920e+00 3.9600e-01\n",
      " 1.8830e+00 1.0860e+00 4.0940e+00 1.7700e-01 4.3600e-01 3.6900e-01\n",
      " 4.3200e-01 3.9200e-01 1.3360e+00 5.5300e-01 5.0600e-01 4.8500e-01\n",
      " 1.1710e+00 1.5470e+00 5.9400e-01 4.7200e-01 3.6600e-01 3.9400e-01\n",
      " 1.4500e-01 5.9000e-01 4.5600e-01 1.3400e-01 2.0000e-02 9.3300e-01\n",
      " 3.2800e-01 1.7100e-01 3.1100e-01 9.9400e-01 3.5400e-01 5.3300e-01\n",
      " 3.3190e+00 3.8200e-01 1.9200e-01 1.4400e-01 1.2360e+00 2.1900e-01\n",
      " 1.6700e-01 4.3400e-01 5.8300e-01 5.5000e-01 6.0200e-01 1.0960e+00\n",
      " 5.2500e-01 8.5000e-02 2.0000e-01 4.0700e-01 1.0940e+00 5.5600e-01\n",
      " 1.4820e+00 1.1190e+00 8.5100e-01 4.8600e-01 4.7700e-01 7.7500e-01\n",
      " 7.5300e-01 6.0300e-01 1.0510e+00 8.7600e-01 1.0130e+00 3.7300e-01\n",
      " 7.8900e-01 9.2100e-01 3.7400e-01 1.5560e+00 1.3980e+00 3.5600e-01\n",
      " 4.9600e-01 1.0010e+00 1.8740e+00 1.1260e+00 3.5500e-01 1.0000e+00\n",
      " 5.2800e-01 6.6500e-01 1.7200e-01 6.8700e-01 8.8000e-01 6.8100e-01\n",
      " 8.3800e-01 9.7700e-01 4.2300e-01 3.9700e-01 9.2000e-01 5.0400e-01\n",
      " 8.0500e-01 6.7500e-01 5.9200e-01 2.0100e+00 4.6700e-01 5.1000e-01\n",
      " 3.1000e-01 1.2400e+00 8.5000e-01 9.3100e-01 1.5240e+00 1.9890e+00\n",
      " 4.5700e-01 4.7800e-01 2.2920e+00 4.6900e-01 5.0300e-01 6.2800e-01\n",
      " 5.3000e-01 5.5500e-01 1.4830e+00 7.2900e-01 4.7100e-01 5.1200e-01\n",
      " 4.9000e-01 5.4200e-01 1.0140e+00 6.8800e-01 4.3800e-01 1.5040e+00\n",
      " 4.0600e-01 4.0300e-01 3.7290e+00 3.7900e-01 1.5260e+00 8.3100e-01\n",
      " 5.7800e-01 4.2800e-01 3.7200e-01 3.5580e+00 4.9500e-01 9.3600e-01\n",
      " 5.9300e-01 5.8800e-01 1.0110e+00 1.2900e+00 5.2400e-01 1.0290e+00\n",
      " 3.2280e+00 3.3091e+01 3.8500e-01 2.1090e+00 1.0890e+00 4.6200e-01\n",
      " 7.4500e-01 2.0540e+00 4.6400e-01 5.2700e-01 1.2060e+00 1.7520e+00\n",
      " 4.4800e-01 5.3900e-01 3.6500e-01 5.3400e-01 1.0910e+00 9.8700e-01\n",
      " 4.9200e-01 4.3500e-01 3.5110e+00 4.5800e-01 1.1340e+00 9.9700e-01\n",
      " 5.2410e+00 1.2210e+00 1.1030e+00 3.6120e+00 2.8100e+00 1.1690e+00\n",
      " 9.8900e-01 6.5400e-01 1.5410e+00 1.0780e+00 5.8400e-01 1.1790e+00\n",
      " 4.3000e-01 3.3900e+00 4.5500e-01 4.5200e-01 9.7000e-01 7.2400e-01\n",
      " 7.5400e-01 4.8000e-01 5.1600e-01 6.9500e-01 1.2618e+01 1.4770e+00\n",
      " 9.8400e-01 6.9200e-01 1.0370e+00 7.5900e-01 4.6600e-01 4.2900e-01\n",
      " 4.8900e-01 1.1550e+00 8.2100e-01 5.7200e-01 7.9500e-01 8.6900e-01\n",
      " 1.2140e+00 3.0190e+00 6.8600e-01 1.7140e+00 7.6600e-01 3.5900e-01\n",
      " 4.2500e-01 5.6100e-01 8.7700e-01 1.0600e+00 2.8000e+00 1.0570e+00\n",
      " 5.5700e-01 4.0900e-01 1.0040e+00 1.0650e+00 7.6900e-01 2.1750e+00\n",
      " 9.3700e-01 1.3960e+00 8.2300e-01 5.2100e-01 1.8790e+00 2.1990e+00\n",
      " 8.3600e-01 3.6000e-01 5.8100e-01 5.7700e-01 4.6150e+00 1.7820e+00\n",
      " 4.0100e-01 6.4100e-01 1.5270e+00 7.9700e-01 4.9900e-01 9.4700e-01\n",
      " 4.8700e-01 1.5860e+00 4.3700e-01 1.2180e+00 7.9000e-01 7.9200e-01\n",
      " 7.9900e-01 4.1200e-01 3.8700e-01 1.7000e-02 2.4000e-02 2.1190e+00\n",
      " 5.6200e-01 1.4000e-02 4.1300e-01 4.1900e-01 6.4900e-01 8.0400e-01\n",
      " 1.2480e+00 5.0200e-01 5.6300e-01 8.3500e-01 4.3100e-01 2.1860e+00\n",
      " 6.4700e-01 9.4300e-01 4.4400e-01 7.7100e-01 9.1600e-01 1.0500e+00\n",
      " 1.0030e+00 2.0940e+00 6.3400e-01 7.8500e-01 6.6700e-01 3.1860e+00\n",
      " 1.3070e+00 8.7500e-01 1.3690e+00 7.6400e-01 4.0800e-01 2.1380e+00\n",
      " 1.4650e+00 1.0530e+00 1.9230e+00 7.0700e-01 2.6550e+00 4.7400e-01\n",
      " 2.6060e+00 1.3780e+00 1.1720e+00 9.5500e-01 5.4600e-01 7.2500e-01\n",
      " 3.2470e+00 5.1700e-01 6.2600e-01 7.1050e+00 8.4700e-01 5.0800e-01\n",
      " 8.2600e-01 5.6700e-01 1.2240e+00 7.7000e-01 9.1200e-01 5.6800e-01\n",
      " 1.3640e+00 1.5690e+00 3.0640e+00 5.3700e-01 6.2300e-01 5.7110e+00\n",
      " 6.6400e-01 5.0900e-01 8.8720e+00 8.4000e-01 6.3000e-01 8.7800e-01\n",
      " 4.7500e-01 5.1400e-01 4.8200e-01 1.6910e+00 2.4330e+00 9.6500e-01\n",
      " 1.9540e+00 3.6700e-01 3.9440e+00 1.7670e+00 8.7300e-01 4.9300e-01\n",
      " 7.7300e-01 5.9100e-01 7.8300e-01 6.2000e-01 9.2300e-01 1.8070e+00\n",
      " 9.8800e-01 7.1500e-01 8.6200e-01 1.4560e+00 8.2400e-01 6.7700e-01\n",
      " 1.0740e+00 1.3447e+01 8.1100e-01 2.8500e+00 1.0810e+00 1.0270e+00\n",
      " 1.0581e+01 3.9010e+00 4.4200e-01 1.1560e+00 6.1400e-01 7.2200e-01\n",
      " 5.1900e-01 1.0760e+00 1.2800e+00 1.0980e+00 8.6000e-01 4.0500e-01\n",
      " 2.6470e+00 2.4180e+00 8.3300e-01 5.1100e-01 2.8180e+00 5.1800e-01\n",
      " 1.1860e+00 8.6100e-01 3.1210e+00 1.4630e+00 1.9180e+00 7.9100e-01\n",
      " 5.1500e-01 2.1980e+00 6.5900e-01 5.4400e-01 2.1540e+00 4.3300e-01\n",
      " 2.3930e+00 4.9800e-01 3.4600e+00 1.3083e+01 4.5640e+00 1.5454e+01\n",
      " 1.1980e+00 2.0410e+00 5.7600e-01 6.2700e-01 6.6800e-01 1.1000e+00\n",
      " 1.1020e+00 1.8780e+00 5.4800e-01 4.8300e-01 7.9400e-01 4.1800e-01\n",
      " 7.3800e-01 1.2904e+01 1.1060e+00 1.1280e+00 5.4000e-01 6.1200e-01\n",
      " 2.8820e+00 7.7700e-01 1.3440e+00 7.3700e-01 7.3600e-01 6.3100e-01\n",
      " 6.4600e-01 5.2600e-01 1.1230e+00 9.9500e-01 6.0700e-01 3.0670e+00\n",
      " 1.8360e+00 5.3600e-01 5.0670e+00 1.5330e+00 3.9300e-01 7.5000e-01\n",
      " 8.1800e-01 1.1130e+00 7.8700e-01 1.2310e+00 1.3530e+00 1.1080e+00\n",
      " 4.4500e-01 1.0900e+00 1.2700e+00 5.5800e-01 2.5890e+00 1.8680e+00\n",
      " 6.6100e-01 7.2100e-01 2.4490e+00 1.2000e+00 3.4170e+00 8.6700e-01\n",
      " 2.6040e+00 8.0800e-01 1.4085e+01 7.6100e-01 4.0710e+00 2.8350e+00\n",
      " 1.9100e+00 1.7470e+00 1.3010e+00 9.1920e+00 8.5900e-01 2.0680e+00\n",
      " 2.2890e+00 4.4600e-01 1.0250e+00 1.7810e+00 1.4740e+00 9.3000e-01\n",
      " 4.9560e+00 1.0120e+00 5.4300e-01 8.7100e-01 1.5190e+00 1.2970e+00\n",
      " 1.3250e+00 2.2320e+00 1.1328e+01 8.9000e-01 1.4720e+00 4.5410e+00\n",
      " 5.9900e-01 1.1105e+01 2.7680e+00 5.8700e-01 5.4100e-01 9.6200e-01\n",
      " 6.9900e-01 8.0600e-01 7.4800e-01 1.5390e+00 1.5960e+00 3.1500e+00\n",
      " 1.4210e+00 6.0100e-01 1.3520e+00 5.9600e-01 1.7500e+00 6.1100e-01\n",
      " 7.1300e-01 2.5474e+01 1.9790e+00 1.8859e+01 1.1010e+00 1.4310e+00\n",
      " 7.4400e-01 1.6260e+00 8.1900e-01 5.3500e-01 6.1500e-01 6.5600e-01\n",
      " 6.9400e-01 2.5956e+01 6.5700e-01 5.8500e-01 1.2680e+00 1.0480e+00\n",
      " 2.5660e+00 8.4400e-01]\n",
      "\n",
      "<class 'pandas.core.series.Series'>\n",
      "RangeIndex: 8054 entries, 0 to 8053\n",
      "Series name: koi_srad_err1\n",
      "Non-Null Count  Dtype  \n",
      "--------------  -----  \n",
      "7907 non-null   float64\n",
      "dtypes: float64(1)\n",
      "memory usage: 63.0 KB\n"
     ]
    },
    {
     "data": {
      "text/plain": [
       "'\\n139 missing values\\nneed to add this value to koi_srad range\\n'"
      ]
     },
     "execution_count": 225,
     "metadata": {},
     "output_type": "execute_result"
    }
   ],
   "source": [
    "s_f(df, 'koi_srad_err1') #Summary feature 'koi_srad_err1'\n",
    "'''\n",
    "139 missing values\n",
    "need to add this value to koi_srad range\n",
    "'''"
   ]
  },
  {
   "cell_type": "code",
   "execution_count": 226,
   "metadata": {},
   "outputs": [
    {
     "name": "stdout",
     "output_type": "stream",
     "text": [
      "There are 8046 non-zero values out of 8054 in 'koi_srad_err2'\n",
      "Number of unique values: 1232\n",
      "Unique Values: [-0.078 -0.067 -0.133 ... -1.66  -1.969 -0.439]\n",
      "\n",
      "<class 'pandas.core.series.Series'>\n",
      "RangeIndex: 8054 entries, 0 to 8053\n",
      "Series name: koi_srad_err2\n",
      "Non-Null Count  Dtype  \n",
      "--------------  -----  \n",
      "7907 non-null   float64\n",
      "dtypes: float64(1)\n",
      "memory usage: 63.0 KB\n"
     ]
    },
    {
     "data": {
      "text/plain": [
       "'\\n139 missing values\\nneed to substract this value to koi_srad range\\n'"
      ]
     },
     "execution_count": 226,
     "metadata": {},
     "output_type": "execute_result"
    }
   ],
   "source": [
    "s_f(df, 'koi_srad_err2') #Summary feature 'koi_srad_err2'\n",
    "'''\n",
    "139 missing values\n",
    "need to substract this value to koi_srad range\n",
    "'''"
   ]
  },
  {
   "cell_type": "code",
   "execution_count": 227,
   "metadata": {},
   "outputs": [
    {
     "name": "stdout",
     "output_type": "stream",
     "text": [
      "There are 8054 non-zero values out of 8054 in 'ra_str'\n",
      "Number of unique values: 6852\n",
      "Unique Values: ['19h48m01.16s' '19h02m08.31s' '19h15m01.17s' ... '19h16m18.61s'\n",
      " '19h34m54.73s' '19h09m19.87s']\n",
      "\n",
      "<class 'pandas.core.series.Series'>\n",
      "RangeIndex: 8054 entries, 0 to 8053\n",
      "Series name: ra_str\n",
      "Non-Null Count  Dtype \n",
      "--------------  ----- \n",
      "8054 non-null   object\n",
      "dtypes: object(1)\n",
      "memory usage: 63.0+ KB\n"
     ]
    },
    {
     "data": {
      "text/plain": [
       "'\\nDate-time stamps\\nno missing values\\nConsidering date-time objects relevant for the project\\n%h%m%s\\n'"
      ]
     },
     "execution_count": 227,
     "metadata": {},
     "output_type": "execute_result"
    }
   ],
   "source": [
    "s_f(df, 'ra_str') #Summary feature 'ra_str'\n",
    "'''\n",
    "Date-time stamps\n",
    "no missing values\n",
    "Considering date-time objects relevant for the project\n",
    "%h%m%s\n",
    "'''"
   ]
  },
  {
   "cell_type": "code",
   "execution_count": 228,
   "metadata": {},
   "outputs": [
    {
     "name": "stdout",
     "output_type": "stream",
     "text": [
      "There are 8054 non-zero values out of 8054 in 'dec_str'\n",
      "Number of unique values: 6873\n",
      "Unique Values: ['+48d08m02.9s' '+48d17m06.8s' '+48d13m34.3s' ... '+46d00m18.8s'\n",
      " '+46d07m44.9s' '+46d12m12.6s']\n",
      "\n",
      "<class 'pandas.core.series.Series'>\n",
      "RangeIndex: 8054 entries, 0 to 8053\n",
      "Series name: dec_str\n",
      "Non-Null Count  Dtype \n",
      "--------------  ----- \n",
      "8054 non-null   object\n",
      "dtypes: object(1)\n",
      "memory usage: 63.0+ KB\n"
     ]
    },
    {
     "data": {
      "text/plain": [
       "'\\nDate-time stamps\\nno missing values\\nConsidering date-time objects relevant for the project\\n%d%m%s\\n'"
      ]
     },
     "execution_count": 228,
     "metadata": {},
     "output_type": "execute_result"
    }
   ],
   "source": [
    "s_f(df, 'dec_str') #Summary feature 'dec_str'\n",
    "'''\n",
    "Date-time stamps\n",
    "no missing values\n",
    "Considering date-time objects relevant for the project\n",
    "%d%m%s\n",
    "'''"
   ]
  },
  {
   "cell_type": "code",
   "execution_count": 229,
   "metadata": {},
   "outputs": [
    {
     "name": "stdout",
     "output_type": "stream",
     "text": [
      "There are 8054 non-zero values out of 8054 in 'koi_kepmag'\n",
      "Number of unique values: 3562\n",
      "Unique Values: [15.436 15.597 15.509 ... 13.58  13.759 13.765]\n",
      "\n",
      "<class 'pandas.core.series.Series'>\n",
      "RangeIndex: 8054 entries, 0 to 8053\n",
      "Series name: koi_kepmag\n",
      "Non-Null Count  Dtype  \n",
      "--------------  -----  \n",
      "8053 non-null   float64\n",
      "dtypes: float64(1)\n",
      "memory usage: 63.0 KB\n"
     ]
    },
    {
     "data": {
      "text/plain": [
       "'\\nNo missing values\\nfloat64\\nREADY FOR EDA\\n'"
      ]
     },
     "execution_count": 229,
     "metadata": {},
     "output_type": "execute_result"
    }
   ],
   "source": [
    "s_f(df, 'koi_kepmag') #Summary feature 'koi_kepmag'\n",
    "'''\n",
    "No missing values\n",
    "float64\n",
    "READY FOR EDA\n",
    "'''"
   ]
  },
  {
   "cell_type": "markdown",
   "metadata": {},
   "source": [
    "Using the API\n",
    "\n",
    "https://exoplanetarchive.ipac.caltech.edu/docs/program_interfaces.html#koi\n",
    "\n",
    "Table Documentation\n",
    "\n",
    "https://exoplanetarchive.ipac.caltech.edu/docs/PurposeOfKOITable.html#cumulative\n",
    "\n",
    "Table Columns\n",
    "\n",
    "https://exoplanetarchive.ipac.caltech.edu/docs/API_kepcandidate_columns.html\n",
    "\n",
    "Table\n",
    "\n",
    "https://exoplanetarchive.ipac.caltech.edu/cgi-bin/TblView/nph-tblView?app=ExoTbls&config=cumulative\n",
    "\n",
    "https://exoplanetarchive.ipac.caltech.edu/cgi-bin/TblView/nph-tblView?app=ExoTbls&config=koi\n",
    "\n",
    "\n",
    "\n",
    "\n"
   ]
  }
 ],
 "metadata": {
  "kernelspec": {
   "display_name": "Python 3.8.12 ('python38')",
   "language": "python",
   "name": "python3"
  },
  "language_info": {
   "codemirror_mode": {
    "name": "ipython",
    "version": 3
   },
   "file_extension": ".py",
   "mimetype": "text/x-python",
   "name": "python",
   "nbconvert_exporter": "python",
   "pygments_lexer": "ipython3",
   "version": "3.8.12"
  },
  "vscode": {
   "interpreter": {
    "hash": "8d4441981c69637c3c918995ed76b87dfee040265e1ee88081871cbf148426e8"
   }
  }
 },
 "nbformat": 4,
 "nbformat_minor": 4
}
